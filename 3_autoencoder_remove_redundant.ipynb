{
 "metadata": {
  "language_info": {
   "codemirror_mode": {
    "name": "ipython",
    "version": 3
   },
   "file_extension": ".py",
   "mimetype": "text/x-python",
   "name": "python",
   "nbconvert_exporter": "python",
   "pygments_lexer": "ipython3",
   "version": "3.8.7-final"
  },
  "orig_nbformat": 2,
  "kernelspec": {
   "name": "python3",
   "display_name": "Python 3.8.7 64-bit",
   "metadata": {
    "interpreter": {
     "hash": "16c65ae9d4785578e68d0c5997eb8ab5b8cd92c162cfb9b6b36bfe368d3b3cf6"
    }
   }
  }
 },
 "nbformat": 4,
 "nbformat_minor": 2,
 "cells": [
  {
   "source": [
    "## Import Library"
   ],
   "cell_type": "markdown",
   "metadata": {}
  },
  {
   "cell_type": "code",
   "execution_count": 1,
   "metadata": {},
   "outputs": [],
   "source": [
    "import os\n",
    "import re\n",
    "import string\n",
    "import numpy as np\n",
    "import pandas as pd\n",
    "\n",
    "import tensorflow as tf\n",
    "from tensorflow import keras\n",
    "from tensorflow.keras import layers\n",
    "\n",
    "pd.set_option('display.max_columns', None)"
   ]
  },
  {
   "source": [
    "## Load dataset"
   ],
   "cell_type": "markdown",
   "metadata": {}
  },
  {
   "cell_type": "code",
   "execution_count": 2,
   "metadata": {},
   "outputs": [
    {
     "output_type": "execute_result",
     "data": {
      "text/plain": [
       "                 Date  Condition  GT Number  GT ACTIVE POWER  \\\n",
       "0 2019-01-01 00:00:00          0          1        24.961611   \n",
       "1 2019-01-01 01:00:00          0          1        24.955444   \n",
       "2 2019-01-01 02:00:00          0          1        25.000464   \n",
       "\n",
       "   AMBIENT PRESSURE SELECTED VALUE  AMBIENT PRESSURE Point  \\\n",
       "0                        14.456103             1002.521955   \n",
       "1                        14.457948             1002.252039   \n",
       "2                        14.458973             1001.881803   \n",
       "\n",
       "   GT INLET SCREEN DIFF. PRESS.  GT INLET AIR DIFF. PRESS.  \\\n",
       "0                      0.579197                  -0.876408   \n",
       "1                      0.577017                  -0.874152   \n",
       "2                      0.576373                  -0.874066   \n",
       "\n",
       "   GT INLET FILTER HOUSE AIR TEMP.  GT INLET FILTER HOUSE AIR HUMIDITY  \\\n",
       "0                        24.942641                           59.018662   \n",
       "1                        24.495615                           59.141301   \n",
       "2                        23.527854                           60.864038   \n",
       "\n",
       "   No.1 GT CHILLED WATER SUPPLY TEMP.  SPRINT WATER FLOW  \\\n",
       "0                           44.426224           0.005570   \n",
       "1                           44.912449           0.005458   \n",
       "2                           44.869438           0.005346   \n",
       "\n",
       "   LP SPRINT TOTAL WATER FLOW  LP SPRINT OPERATION HOUR  \\\n",
       "0                98132.634463                465.728370   \n",
       "1                98132.645325                465.729958   \n",
       "2                98132.656186                465.731547   \n",
       "\n",
       "   VIGV POSITION SELECTED  VBVBEL POSITION SELECTED  VSVSEL POSITION SELECTED  \\\n",
       "0               28.269185                 13.471984                 72.954904   \n",
       "1               28.258613                 13.214311                 72.702084   \n",
       "2               28.235135                 13.006690                 72.625770   \n",
       "\n",
       "   No.1 INLET AIR HEATER LEVEL CV POS. DEMAND  \\\n",
       "0                                   72.223297   \n",
       "1                                   69.044871   \n",
       "2                                   70.603622   \n",
       "\n",
       "   LP COMP. INLET TEMP. (T2) SELECTED  GT INLET TEMP. (T10) SELECTED  \\\n",
       "0                           40.599394                      41.138421   \n",
       "1                           40.933119                      41.474002   \n",
       "2                           40.795232                      41.373230   \n",
       "\n",
       "   HP COMP. INLET TEMP. (T25) SELECTED  HP COMP. DISCH. TEMP. (T3) SELECTED  \\\n",
       "0                           121.961115                           530.589712   \n",
       "1                           122.625872                           531.528906   \n",
       "2                           122.755831                           531.591234   \n",
       "\n",
       "   HP COMP. INLET PRESS. (P25)  HP COMP. DISCH. PRESS. (PS3)  \\\n",
       "0                   201.596931                   2063.180941   \n",
       "1                   201.898162                   2063.575507   \n",
       "2                   202.430963                   2065.795654   \n",
       "\n",
       "   LP TURBINE INLET TEMP. (T48) SELECTED  DIFFERENACE OF T48MAX AND T48MIN  \\\n",
       "0                             852.376481                         24.547630   \n",
       "1                             852.605385                         24.563439   \n",
       "2                             852.410639                         24.377013   \n",
       "\n",
       "   HP ROTOR SPEED (XN25) SELECTED  LP ROTOR SPEED (XNSD) SELECTED  \\\n",
       "0                    10089.833398                     3629.223758   \n",
       "1                    10089.025464                     3629.442142   \n",
       "2                    10087.886271                     3630.881414   \n",
       "\n",
       "   Fuel Gas Volume Flow  LOWER HEATING VALUE  Fuel Specific Gravity Selected  \\\n",
       "0            193.406986         45678.880642                        0.594959   \n",
       "1            193.345791         45628.921037                        0.595003   \n",
       "2            192.986560         45592.510796                        0.595048   \n",
       "\n",
       "   Compressibility Factor Selected  FUEL GAS SUPPLY PRESS.  \\\n",
       "0                         0.943591                4.360250   \n",
       "1                         0.943467                4.360398   \n",
       "2                         0.943500                4.360448   \n",
       "\n",
       "   FUEL GAS SUPPLY TEMP. SELECTED  HRSG INLET FUEL GAS PRESS.  \\\n",
       "0                       58.322947                    0.097487   \n",
       "1                       58.372839                    0.110897   \n",
       "2                       57.630118                    0.099417   \n",
       "\n",
       "   HRSG INLET GAS DUCT TEMP.  HRSG OUTLET FUEL GAS PRESS.  \\\n",
       "0                 487.367533                     0.041327   \n",
       "1                 487.701040                     0.029931   \n",
       "2                 487.169261                     0.018535   \n",
       "\n",
       "   HRSG OUTLET GAS DUCT TEMP.  LP TURBINE INLET TEMP. (T48)  \n",
       "0                   96.054738                    852.312343  \n",
       "1                   95.927768                    852.541196  \n",
       "2                   95.852131                    852.345701  "
      ],
      "text/html": "<div>\n<style scoped>\n    .dataframe tbody tr th:only-of-type {\n        vertical-align: middle;\n    }\n\n    .dataframe tbody tr th {\n        vertical-align: top;\n    }\n\n    .dataframe thead th {\n        text-align: right;\n    }\n</style>\n<table border=\"1\" class=\"dataframe\">\n  <thead>\n    <tr style=\"text-align: right;\">\n      <th></th>\n      <th>Date</th>\n      <th>Condition</th>\n      <th>GT Number</th>\n      <th>GT ACTIVE POWER</th>\n      <th>AMBIENT PRESSURE SELECTED VALUE</th>\n      <th>AMBIENT PRESSURE Point</th>\n      <th>GT INLET SCREEN DIFF. PRESS.</th>\n      <th>GT INLET AIR DIFF. PRESS.</th>\n      <th>GT INLET FILTER HOUSE AIR TEMP.</th>\n      <th>GT INLET FILTER HOUSE AIR HUMIDITY</th>\n      <th>No.1 GT CHILLED WATER SUPPLY TEMP.</th>\n      <th>SPRINT WATER FLOW</th>\n      <th>LP SPRINT TOTAL WATER FLOW</th>\n      <th>LP SPRINT OPERATION HOUR</th>\n      <th>VIGV POSITION SELECTED</th>\n      <th>VBVBEL POSITION SELECTED</th>\n      <th>VSVSEL POSITION SELECTED</th>\n      <th>No.1 INLET AIR HEATER LEVEL CV POS. DEMAND</th>\n      <th>LP COMP. INLET TEMP. (T2) SELECTED</th>\n      <th>GT INLET TEMP. (T10) SELECTED</th>\n      <th>HP COMP. INLET TEMP. (T25) SELECTED</th>\n      <th>HP COMP. DISCH. TEMP. (T3) SELECTED</th>\n      <th>HP COMP. INLET PRESS. (P25)</th>\n      <th>HP COMP. DISCH. PRESS. (PS3)</th>\n      <th>LP TURBINE INLET TEMP. (T48) SELECTED</th>\n      <th>DIFFERENACE OF T48MAX AND T48MIN</th>\n      <th>HP ROTOR SPEED (XN25) SELECTED</th>\n      <th>LP ROTOR SPEED (XNSD) SELECTED</th>\n      <th>Fuel Gas Volume Flow</th>\n      <th>LOWER HEATING VALUE</th>\n      <th>Fuel Specific Gravity Selected</th>\n      <th>Compressibility Factor Selected</th>\n      <th>FUEL GAS SUPPLY PRESS.</th>\n      <th>FUEL GAS SUPPLY TEMP. SELECTED</th>\n      <th>HRSG INLET FUEL GAS PRESS.</th>\n      <th>HRSG INLET GAS DUCT TEMP.</th>\n      <th>HRSG OUTLET FUEL GAS PRESS.</th>\n      <th>HRSG OUTLET GAS DUCT TEMP.</th>\n      <th>LP TURBINE INLET TEMP. (T48)</th>\n    </tr>\n  </thead>\n  <tbody>\n    <tr>\n      <th>0</th>\n      <td>2019-01-01 00:00:00</td>\n      <td>0</td>\n      <td>1</td>\n      <td>24.961611</td>\n      <td>14.456103</td>\n      <td>1002.521955</td>\n      <td>0.579197</td>\n      <td>-0.876408</td>\n      <td>24.942641</td>\n      <td>59.018662</td>\n      <td>44.426224</td>\n      <td>0.005570</td>\n      <td>98132.634463</td>\n      <td>465.728370</td>\n      <td>28.269185</td>\n      <td>13.471984</td>\n      <td>72.954904</td>\n      <td>72.223297</td>\n      <td>40.599394</td>\n      <td>41.138421</td>\n      <td>121.961115</td>\n      <td>530.589712</td>\n      <td>201.596931</td>\n      <td>2063.180941</td>\n      <td>852.376481</td>\n      <td>24.547630</td>\n      <td>10089.833398</td>\n      <td>3629.223758</td>\n      <td>193.406986</td>\n      <td>45678.880642</td>\n      <td>0.594959</td>\n      <td>0.943591</td>\n      <td>4.360250</td>\n      <td>58.322947</td>\n      <td>0.097487</td>\n      <td>487.367533</td>\n      <td>0.041327</td>\n      <td>96.054738</td>\n      <td>852.312343</td>\n    </tr>\n    <tr>\n      <th>1</th>\n      <td>2019-01-01 01:00:00</td>\n      <td>0</td>\n      <td>1</td>\n      <td>24.955444</td>\n      <td>14.457948</td>\n      <td>1002.252039</td>\n      <td>0.577017</td>\n      <td>-0.874152</td>\n      <td>24.495615</td>\n      <td>59.141301</td>\n      <td>44.912449</td>\n      <td>0.005458</td>\n      <td>98132.645325</td>\n      <td>465.729958</td>\n      <td>28.258613</td>\n      <td>13.214311</td>\n      <td>72.702084</td>\n      <td>69.044871</td>\n      <td>40.933119</td>\n      <td>41.474002</td>\n      <td>122.625872</td>\n      <td>531.528906</td>\n      <td>201.898162</td>\n      <td>2063.575507</td>\n      <td>852.605385</td>\n      <td>24.563439</td>\n      <td>10089.025464</td>\n      <td>3629.442142</td>\n      <td>193.345791</td>\n      <td>45628.921037</td>\n      <td>0.595003</td>\n      <td>0.943467</td>\n      <td>4.360398</td>\n      <td>58.372839</td>\n      <td>0.110897</td>\n      <td>487.701040</td>\n      <td>0.029931</td>\n      <td>95.927768</td>\n      <td>852.541196</td>\n    </tr>\n    <tr>\n      <th>2</th>\n      <td>2019-01-01 02:00:00</td>\n      <td>0</td>\n      <td>1</td>\n      <td>25.000464</td>\n      <td>14.458973</td>\n      <td>1001.881803</td>\n      <td>0.576373</td>\n      <td>-0.874066</td>\n      <td>23.527854</td>\n      <td>60.864038</td>\n      <td>44.869438</td>\n      <td>0.005346</td>\n      <td>98132.656186</td>\n      <td>465.731547</td>\n      <td>28.235135</td>\n      <td>13.006690</td>\n      <td>72.625770</td>\n      <td>70.603622</td>\n      <td>40.795232</td>\n      <td>41.373230</td>\n      <td>122.755831</td>\n      <td>531.591234</td>\n      <td>202.430963</td>\n      <td>2065.795654</td>\n      <td>852.410639</td>\n      <td>24.377013</td>\n      <td>10087.886271</td>\n      <td>3630.881414</td>\n      <td>192.986560</td>\n      <td>45592.510796</td>\n      <td>0.595048</td>\n      <td>0.943500</td>\n      <td>4.360448</td>\n      <td>57.630118</td>\n      <td>0.099417</td>\n      <td>487.169261</td>\n      <td>0.018535</td>\n      <td>95.852131</td>\n      <td>852.345701</td>\n    </tr>\n  </tbody>\n</table>\n</div>"
     },
     "metadata": {},
     "execution_count": 2
    }
   ],
   "source": [
    "import pickle\n",
    "\n",
    "data_filename = 'GSPP11_data_merge_reduce'\n",
    "\n",
    "try:\n",
    "    data_df = pickle.load(open('data/' + data_filename + '.pickle', 'rb'))\n",
    "except (OSError, IOError) as e:\n",
    "    data_df = pd.read_excel('data/' + data_filename + '.xlsx')\n",
    "    pickle.dump(data_df, open('data/' + data_filename + '.pickle', 'wb'))\n",
    "\n",
    "data_df.head(3)"
   ]
  },
  {
   "source": [
    "## Prepare dataset"
   ],
   "cell_type": "markdown",
   "metadata": {}
  },
  {
   "cell_type": "code",
   "execution_count": 3,
   "metadata": {},
   "outputs": [],
   "source": [
    "# Fill all NaN with value = 0\n",
    "nan_df = data_df[data_df.isnull().any(axis=1)]\n",
    "data_df.iloc[:, 3:] = data_df.iloc[:, 3:].fillna(0)"
   ]
  },
  {
   "cell_type": "code",
   "execution_count": 4,
   "metadata": {},
   "outputs": [
    {
     "output_type": "execute_result",
     "data": {
      "text/plain": [
       "                 Date  Condition  GT Number  GT ACTIVE POWER  \\\n",
       "0 2019-01-01 00:00:00          0          1         0.545878   \n",
       "1 2019-01-01 01:00:00          0          1         0.545744   \n",
       "2 2019-01-01 02:00:00          0          1         0.546728   \n",
       "\n",
       "   AMBIENT PRESSURE SELECTED VALUE  AMBIENT PRESSURE Point  \\\n",
       "0                         0.999545                0.878784   \n",
       "1                         0.999672                0.863653   \n",
       "2                         0.999743                0.842899   \n",
       "\n",
       "   GT INLET SCREEN DIFF. PRESS.  GT INLET AIR DIFF. PRESS.  \\\n",
       "0                      0.541357                   0.592749   \n",
       "1                      0.539319                   0.593797   \n",
       "2                      0.538717                   0.593837   \n",
       "\n",
       "   GT INLET FILTER HOUSE AIR TEMP.  GT INLET FILTER HOUSE AIR HUMIDITY  \\\n",
       "0                         0.662345                            0.592396   \n",
       "1                         0.650474                            0.593627   \n",
       "2                         0.624776                            0.610919   \n",
       "\n",
       "   No.1 GT CHILLED WATER SUPPLY TEMP.  SPRINT WATER FLOW  \\\n",
       "0                            0.964546           0.001126   \n",
       "1                            0.975103           0.001103   \n",
       "2                            0.974169           0.001081   \n",
       "\n",
       "   LP SPRINT TOTAL WATER FLOW  LP SPRINT OPERATION HOUR  \\\n",
       "0                    0.726127                  0.013268   \n",
       "1                    0.726127                  0.013268   \n",
       "2                    0.726127                  0.013268   \n",
       "\n",
       "   VIGV POSITION SELECTED  VBVBEL POSITION SELECTED  VSVSEL POSITION SELECTED  \\\n",
       "0                0.286145                  0.134753                  0.731006   \n",
       "1                0.286038                  0.132176                  0.728473   \n",
       "2                0.285800                  0.130099                  0.727708   \n",
       "\n",
       "   No.1 INLET AIR HEATER LEVEL CV POS. DEMAND  \\\n",
       "0                                    0.875253   \n",
       "1                                    0.836735   \n",
       "2                                    0.855625   \n",
       "\n",
       "   LP COMP. INLET TEMP. (T2) SELECTED  GT INLET TEMP. (T10) SELECTED  \\\n",
       "0                            0.811912                       0.939867   \n",
       "1                            0.818586                       0.947534   \n",
       "2                            0.815828                       0.945232   \n",
       "\n",
       "   HP COMP. INLET TEMP. (T25) SELECTED  HP COMP. DISCH. TEMP. (T3) SELECTED  \\\n",
       "0                             0.967630                             0.983477   \n",
       "1                             0.972904                             0.985218   \n",
       "2                             0.973935                             0.985334   \n",
       "\n",
       "   HP COMP. INLET PRESS. (P25)  HP COMP. DISCH. PRESS. (PS3)  \\\n",
       "0                     0.786094                      0.680234   \n",
       "1                     0.787268                      0.680364   \n",
       "2                     0.789346                      0.681096   \n",
       "\n",
       "   LP TURBINE INLET TEMP. (T48) SELECTED  DIFFERENACE OF T48MAX AND T48MIN  \\\n",
       "0                               0.978184                          0.571145   \n",
       "1                               0.978447                          0.571168   \n",
       "2                               0.978223                          0.570895   \n",
       "\n",
       "   HP ROTOR SPEED (XN25) SELECTED  LP ROTOR SPEED (XNSD) SELECTED  \\\n",
       "0                        0.951457                        0.998861   \n",
       "1                        0.951381                        0.998921   \n",
       "2                        0.951273                        0.999317   \n",
       "\n",
       "   Fuel Gas Volume Flow  LOWER HEATING VALUE  Fuel Specific Gravity Selected  \\\n",
       "0              0.591451             0.968120                        0.845497   \n",
       "1              0.591264             0.967061                        0.845560   \n",
       "2              0.590166             0.966290                        0.845624   \n",
       "\n",
       "   Compressibility Factor Selected  FUEL GAS SUPPLY PRESS.  \\\n",
       "0                         0.971701                0.970759   \n",
       "1                         0.971574                0.970792   \n",
       "2                         0.971608                0.970803   \n",
       "\n",
       "   FUEL GAS SUPPLY TEMP. SELECTED  HRSG INLET FUEL GAS PRESS.  \\\n",
       "0                        0.761956                    0.311394   \n",
       "1                        0.762608                    0.314392   \n",
       "2                        0.752905                    0.311826   \n",
       "\n",
       "   HRSG INLET GAS DUCT TEMP.  HRSG OUTLET FUEL GAS PRESS.  \\\n",
       "0                   0.940795                     0.738891   \n",
       "1                   0.941438                     0.721699   \n",
       "2                   0.940412                     0.704506   \n",
       "\n",
       "   HRSG OUTLET GAS DUCT TEMP.  LP TURBINE INLET TEMP. (T48)  \n",
       "0                    0.845962                      0.978188  \n",
       "1                    0.844844                      0.978450  \n",
       "2                    0.844178                      0.978226  "
      ],
      "text/html": "<div>\n<style scoped>\n    .dataframe tbody tr th:only-of-type {\n        vertical-align: middle;\n    }\n\n    .dataframe tbody tr th {\n        vertical-align: top;\n    }\n\n    .dataframe thead th {\n        text-align: right;\n    }\n</style>\n<table border=\"1\" class=\"dataframe\">\n  <thead>\n    <tr style=\"text-align: right;\">\n      <th></th>\n      <th>Date</th>\n      <th>Condition</th>\n      <th>GT Number</th>\n      <th>GT ACTIVE POWER</th>\n      <th>AMBIENT PRESSURE SELECTED VALUE</th>\n      <th>AMBIENT PRESSURE Point</th>\n      <th>GT INLET SCREEN DIFF. PRESS.</th>\n      <th>GT INLET AIR DIFF. PRESS.</th>\n      <th>GT INLET FILTER HOUSE AIR TEMP.</th>\n      <th>GT INLET FILTER HOUSE AIR HUMIDITY</th>\n      <th>No.1 GT CHILLED WATER SUPPLY TEMP.</th>\n      <th>SPRINT WATER FLOW</th>\n      <th>LP SPRINT TOTAL WATER FLOW</th>\n      <th>LP SPRINT OPERATION HOUR</th>\n      <th>VIGV POSITION SELECTED</th>\n      <th>VBVBEL POSITION SELECTED</th>\n      <th>VSVSEL POSITION SELECTED</th>\n      <th>No.1 INLET AIR HEATER LEVEL CV POS. DEMAND</th>\n      <th>LP COMP. INLET TEMP. (T2) SELECTED</th>\n      <th>GT INLET TEMP. (T10) SELECTED</th>\n      <th>HP COMP. INLET TEMP. (T25) SELECTED</th>\n      <th>HP COMP. DISCH. TEMP. (T3) SELECTED</th>\n      <th>HP COMP. INLET PRESS. (P25)</th>\n      <th>HP COMP. DISCH. PRESS. (PS3)</th>\n      <th>LP TURBINE INLET TEMP. (T48) SELECTED</th>\n      <th>DIFFERENACE OF T48MAX AND T48MIN</th>\n      <th>HP ROTOR SPEED (XN25) SELECTED</th>\n      <th>LP ROTOR SPEED (XNSD) SELECTED</th>\n      <th>Fuel Gas Volume Flow</th>\n      <th>LOWER HEATING VALUE</th>\n      <th>Fuel Specific Gravity Selected</th>\n      <th>Compressibility Factor Selected</th>\n      <th>FUEL GAS SUPPLY PRESS.</th>\n      <th>FUEL GAS SUPPLY TEMP. SELECTED</th>\n      <th>HRSG INLET FUEL GAS PRESS.</th>\n      <th>HRSG INLET GAS DUCT TEMP.</th>\n      <th>HRSG OUTLET FUEL GAS PRESS.</th>\n      <th>HRSG OUTLET GAS DUCT TEMP.</th>\n      <th>LP TURBINE INLET TEMP. (T48)</th>\n    </tr>\n  </thead>\n  <tbody>\n    <tr>\n      <th>0</th>\n      <td>2019-01-01 00:00:00</td>\n      <td>0</td>\n      <td>1</td>\n      <td>0.545878</td>\n      <td>0.999545</td>\n      <td>0.878784</td>\n      <td>0.541357</td>\n      <td>0.592749</td>\n      <td>0.662345</td>\n      <td>0.592396</td>\n      <td>0.964546</td>\n      <td>0.001126</td>\n      <td>0.726127</td>\n      <td>0.013268</td>\n      <td>0.286145</td>\n      <td>0.134753</td>\n      <td>0.731006</td>\n      <td>0.875253</td>\n      <td>0.811912</td>\n      <td>0.939867</td>\n      <td>0.967630</td>\n      <td>0.983477</td>\n      <td>0.786094</td>\n      <td>0.680234</td>\n      <td>0.978184</td>\n      <td>0.571145</td>\n      <td>0.951457</td>\n      <td>0.998861</td>\n      <td>0.591451</td>\n      <td>0.968120</td>\n      <td>0.845497</td>\n      <td>0.971701</td>\n      <td>0.970759</td>\n      <td>0.761956</td>\n      <td>0.311394</td>\n      <td>0.940795</td>\n      <td>0.738891</td>\n      <td>0.845962</td>\n      <td>0.978188</td>\n    </tr>\n    <tr>\n      <th>1</th>\n      <td>2019-01-01 01:00:00</td>\n      <td>0</td>\n      <td>1</td>\n      <td>0.545744</td>\n      <td>0.999672</td>\n      <td>0.863653</td>\n      <td>0.539319</td>\n      <td>0.593797</td>\n      <td>0.650474</td>\n      <td>0.593627</td>\n      <td>0.975103</td>\n      <td>0.001103</td>\n      <td>0.726127</td>\n      <td>0.013268</td>\n      <td>0.286038</td>\n      <td>0.132176</td>\n      <td>0.728473</td>\n      <td>0.836735</td>\n      <td>0.818586</td>\n      <td>0.947534</td>\n      <td>0.972904</td>\n      <td>0.985218</td>\n      <td>0.787268</td>\n      <td>0.680364</td>\n      <td>0.978447</td>\n      <td>0.571168</td>\n      <td>0.951381</td>\n      <td>0.998921</td>\n      <td>0.591264</td>\n      <td>0.967061</td>\n      <td>0.845560</td>\n      <td>0.971574</td>\n      <td>0.970792</td>\n      <td>0.762608</td>\n      <td>0.314392</td>\n      <td>0.941438</td>\n      <td>0.721699</td>\n      <td>0.844844</td>\n      <td>0.978450</td>\n    </tr>\n    <tr>\n      <th>2</th>\n      <td>2019-01-01 02:00:00</td>\n      <td>0</td>\n      <td>1</td>\n      <td>0.546728</td>\n      <td>0.999743</td>\n      <td>0.842899</td>\n      <td>0.538717</td>\n      <td>0.593837</td>\n      <td>0.624776</td>\n      <td>0.610919</td>\n      <td>0.974169</td>\n      <td>0.001081</td>\n      <td>0.726127</td>\n      <td>0.013268</td>\n      <td>0.285800</td>\n      <td>0.130099</td>\n      <td>0.727708</td>\n      <td>0.855625</td>\n      <td>0.815828</td>\n      <td>0.945232</td>\n      <td>0.973935</td>\n      <td>0.985334</td>\n      <td>0.789346</td>\n      <td>0.681096</td>\n      <td>0.978223</td>\n      <td>0.570895</td>\n      <td>0.951273</td>\n      <td>0.999317</td>\n      <td>0.590166</td>\n      <td>0.966290</td>\n      <td>0.845624</td>\n      <td>0.971608</td>\n      <td>0.970803</td>\n      <td>0.752905</td>\n      <td>0.311826</td>\n      <td>0.940412</td>\n      <td>0.704506</td>\n      <td>0.844178</td>\n      <td>0.978226</td>\n    </tr>\n  </tbody>\n</table>\n</div>"
     },
     "metadata": {},
     "execution_count": 4
    }
   ],
   "source": [
    "# Scaling value of features in range of (0,1)\n",
    "\n",
    "from sklearn.preprocessing import MinMaxScaler\n",
    "\n",
    "features = data_df.iloc[:, 3:]\n",
    "scaler = MinMaxScaler((0, 1)).fit(features)\n",
    "\n",
    "scaled_df = data_df.copy()\n",
    "scaled_df.iloc[:, 3:] = scaler.transform(scaled_df.iloc[:, 3:])\n",
    "\n",
    "scaled_df.head(3)"
   ]
  },
  {
   "cell_type": "code",
   "execution_count": 5,
   "metadata": {},
   "outputs": [
    {
     "output_type": "stream",
     "name": "stdout",
     "text": [
      "Total samples: 29,232\nNormal samples: 23,517, Abnormal samples: 5,715\n\nNormal samples split for train/val/test in ratio of 23,385/4,677/1,170 samples (80.0/16.0/4.0%)\n\nMerging normal test samples with abnormal samples for test, total test samples: 1,170+5,715 = 6,885 samples\n"
     ]
    }
   ],
   "source": [
    "# Split data\n",
    "from sklearn.model_selection import train_test_split\n",
    "\n",
    "norm_df = scaled_df[scaled_df['Condition'] == 0]\n",
    "train_df, val_df = train_test_split(scaled_df, test_size=0.2, random_state=42)\n",
    "val_df, norm_test_df = train_test_split(val_df, test_size=0.2, random_state=42)\n",
    "\n",
    "print('Total samples: {:,d}'.format(len(scaled_df)))\n",
    "print('Normal samples: {:,d}, Abnormal samples: {:,d}'.format(len(norm_df), len(scaled_df)-len(norm_df)))\n",
    "print()\n",
    "\n",
    "print('Normal samples split for train/val/test in ratio of {:,d}/{:,d}/{:,d} samples ({:.1f}/{:.1f}/{:.1f}%)'.format(\n",
    "    len(train_df), len(val_df), len(norm_test_df), 100*len(train_df)/len(scaled_df), 100*len(val_df)/len(scaled_df), 100*len(norm_test_df)/len(scaled_df)))\n",
    "print()\n",
    "\n",
    "abnorm_df = scaled_df[scaled_df['Condition'] == 1]\n",
    "test_df = norm_test_df.append(abnorm_df)\n",
    "print('Merging normal test samples with abnormal samples for test, total test samples: {:,d}+{:,d} = {:,d} samples'.format(len(norm_test_df), len(abnorm_df), len(test_df)))"
   ]
  },
  {
   "cell_type": "code",
   "execution_count": 6,
   "metadata": {
    "tags": []
   },
   "outputs": [],
   "source": [
    "train_data = train_df.drop(columns=['Date', 'Condition', 'GT Number']).to_numpy()\n",
    "val_data = val_df.drop(columns=['Date', 'Condition', 'GT Number']).to_numpy()\n",
    "test_data = test_df.drop(columns=['Date', 'Condition', 'GT Number']).to_numpy()\n",
    "\n",
    "batch_size = 32\n",
    "train_ds = tf.data.Dataset.from_tensor_slices((train_data, train_data)).batch(batch_size)\n",
    "val_ds = tf.data.Dataset.from_tensor_slices((val_data, val_data)).batch(batch_size)\n",
    "test_ds = tf.data.Dataset.from_tensor_slices((test_data, test_data)).batch(batch_size)\n",
    "\n",
    "buffer_size = 32\n",
    "train_ds = train_ds.prefetch(buffer_size=buffer_size)\n",
    "val_ds = val_ds.prefetch(buffer_size=buffer_size)\n",
    "test_ds = test_ds.prefetch(buffer_size=buffer_size)"
   ]
  },
  {
   "source": [
    "## Build a model"
   ],
   "cell_type": "markdown",
   "metadata": {}
  },
  {
   "cell_type": "code",
   "execution_count": 7,
   "metadata": {},
   "outputs": [
    {
     "output_type": "execute_result",
     "data": {
      "image/png": "[encoded data removed]",
      "text/plain": [
       "<IPython.core.display.Image object>"
      ]
     },
     "metadata": {},
     "execution_count": 7
    }
   ],
   "source": [
    "# Model name\n",
    "model_name = 'model_2'\n",
    "\n",
    "def make_model(features_number):\n",
    "\n",
    "    # Encoder\n",
    "    inputs = layers.Input(shape=(features_number, ))\n",
    "    x = layers.Dense(36, activation='relu')(inputs)\n",
    "    # x = layers.Dropout(rate=0.2)(x)\n",
    "    # x = layers.Dense(32, activation='relu')(x)\n",
    "    x = layers.Dense(8, activation='relu')(x)\n",
    "\n",
    "    # Decoder\n",
    "    x = layers.Dense(8, activation='relu')(x)\n",
    "    # x = layers.Dropout(rate=0.2)(x)\n",
    "    # x = layers.Dense(32, activation='relu')(x)\n",
    "    x = layers.Dense(36, activation='relu')(x)\n",
    "    outputs = layers.Dense(features_number)(x)\n",
    "\n",
    "    return keras.Model(inputs, outputs, name='autoencoder')\n",
    "\n",
    "model = make_model(features_number=len(features.columns))\n",
    "keras.utils.plot_model(model, to_file='images/' + model_name + '.png', show_shapes=True)\n",
    "# model.summary()"
   ]
  },
  {
   "source": [
    "## Train the model"
   ],
   "cell_type": "markdown",
   "metadata": {}
  },
  {
   "cell_type": "code",
   "execution_count": 8,
   "metadata": {
    "tags": []
   },
   "outputs": [
    {
     "output_type": "execute_result",
     "data": {
      "text/plain": [
       "<tensorflow.python.keras.callbacks.History at 0x24cb06b3850>"
      ]
     },
     "metadata": {},
     "execution_count": 8
    }
   ],
   "source": [
    "import datetime\n",
    "\n",
    "model.compile(\n",
    "    optimizer=keras.optimizers.Adam(),\n",
    "    loss='mse',\n",
    "    metrics=['accuracy'],\n",
    ")\n",
    "\n",
    "# Tensorboard\n",
    "tb = keras.callbacks.TensorBoard(\n",
    "    log_dir='logs/' + datetime.datetime.now().strftime('%Y%m%d-%H%M%S')\n",
    ")\n",
    "\n",
    "# Checkpoint\n",
    "cp = keras.callbacks.ModelCheckpoint(\n",
    "    filepath=model_name + '/' + model_name + '-{epoch:05d}.h5',\n",
    "    verbose=0,\n",
    "    save_weights_only=True,\n",
    "    save_freq=7310,\n",
    ")\n",
    "try:\n",
    "    saved_model_name = 'model_2-02000'\n",
    "    model.load_weights(model_name + '/' + saved_model_name + '.h5')\n",
    "    initial_epoch = int(saved_model_name.split('-')[1])\n",
    "except (OSError, IOError) as e:\n",
    "    initial_epoch = 0\n",
    "\n",
    "model.fit(train_ds, epochs=2000, initial_epoch=initial_epoch, validation_data=val_ds, verbose=1, callbacks=[tb, cp])"
   ]
  },
  {
   "cell_type": "code",
   "execution_count": 9,
   "metadata": {},
   "outputs": [
    {
     "output_type": "stream",
     "name": "stdout",
     "text": [
      "731/731 [==============================] - 1s 1ms/step - loss: 2.8944e-04 - accuracy: 0.7097\n",
      "0.0002810880250763148\n",
      "147/147 [==============================] - 0s 1ms/step - loss: 3.1776e-04 - accuracy: 0.7054\n",
      "0.00031775879324413836\n",
      "216/216 [==============================] - 0s 1ms/step - loss: 2.8938e-04 - accuracy: 0.6938\n",
      "0.00028938002651557326\n"
     ]
    }
   ],
   "source": [
    "for ds in [train_ds, val_ds, test_ds]:\n",
    "    print(model.evaluate(ds)[0])"
   ]
  },
  {
   "cell_type": "code",
   "execution_count": 10,
   "metadata": {},
   "outputs": [
    {
     "output_type": "display_data",
     "data": {
      "text/plain": "<Figure size 432x288 with 1 Axes>",
      "image/svg+xml": "<?xml version=\"1.0\" encoding=\"utf-8\" standalone=\"no\"?>\r\n<!DOCTYPE svg PUBLIC \"-//W3C//DTD SVG 1.1//EN\"\r\n  \"http://www.w3.org/Graphics/SVG/1.1/DTD/svg11.dtd\">\r\n<!-- Created with matplotlib (https://matplotlib.org/) -->\r\n<svg height=\"262.19625pt\" version=\"1.1\" viewBox=\"0 0 388.965625 262.19625\" width=\"388.965625pt\" xmlns=\"http://www.w3.org/2000/svg\" xmlns:xlink=\"http://www.w3.org/1999/xlink\">\r\n <metadata>\r\n  <rdf:RDF xmlns:cc=\"http://creativecommons.org/ns#\" xmlns:dc=\"http://purl.org/dc/elements/1.1/\" xmlns:rdf=\"http://www.w3.org/1999/02/22-rdf-syntax-ns#\">\r\n   <cc:Work>\r\n    <dc:type rdf:resource=\"http://purl.org/dc/dcmitype/StillImage\"/>\r\n    <dc:date>2021-01-14T15:33:35.684223</dc:date>\r\n    <dc:format>image/svg+xml</dc:format>\r\n    <dc:creator>\r\n     <cc:Agent>\r\n      <dc:title>Matplotlib v3.3.3, https://matplotlib.org/</dc:title>\r\n     </cc:Agent>\r\n    </dc:creator>\r\n   </cc:Work>\r\n  </rdf:RDF>\r\n </metadata>\r\n <defs>\r\n  <style type=\"text/css\">*{stroke-linecap:butt;stroke-linejoin:round;}</style>\r\n </defs>\r\n <g id=\"figure_1\">\r\n  <g id=\"patch_1\">\r\n   <path d=\"M 0 262.19625 \r\nL 388.965625 262.19625 \r\nL 388.965625 0 \r\nL 0 0 \r\nz\r\n\" style=\"fill:none;\"/>\r\n  </g>\r\n  <g id=\"axes_1\">\r\n   <g id=\"patch_2\">\r\n    <path d=\"M 46.965625 224.64 \r\nL 381.765625 224.64 \r\nL 381.765625 7.2 \r\nL 46.965625 7.2 \r\nz\r\n\" style=\"fill:#ffffff;\"/>\r\n   </g>\r\n   <g id=\"matplotlib.axis_1\">\r\n    <g id=\"xtick_1\">\r\n     <g id=\"line2d_1\">\r\n      <defs>\r\n       <path d=\"M 0 0 \r\nL 0 3.5 \r\n\" id=\"m0120542a49\" style=\"stroke:#000000;stroke-width:0.8;\"/>\r\n      </defs>\r\n      <g>\r\n       <use style=\"stroke:#000000;stroke-width:0.8;\" x=\"46.965625\" xlink:href=\"#m0120542a49\" y=\"224.64\"/>\r\n      </g>\r\n     </g>\r\n     <g id=\"text_1\">\r\n      <!-- 0.00 -->\r\n      <g transform=\"translate(35.832813 239.238437)scale(0.1 -0.1)\">\r\n       <defs>\r\n        <path d=\"M 31.78125 66.40625 \r\nQ 24.171875 66.40625 20.328125 58.90625 \r\nQ 16.5 51.421875 16.5 36.375 \r\nQ 16.5 21.390625 20.328125 13.890625 \r\nQ 24.171875 6.390625 31.78125 6.390625 \r\nQ 39.453125 6.390625 43.28125 13.890625 \r\nQ 47.125 21.390625 47.125 36.375 \r\nQ 47.125 51.421875 43.28125 58.90625 \r\nQ 39.453125 66.40625 31.78125 66.40625 \r\nz\r\nM 31.78125 74.21875 \r\nQ 44.046875 74.21875 50.515625 64.515625 \r\nQ 56.984375 54.828125 56.984375 36.375 \r\nQ 56.984375 17.96875 50.515625 8.265625 \r\nQ 44.046875 -1.421875 31.78125 -1.421875 \r\nQ 19.53125 -1.421875 13.0625 8.265625 \r\nQ 6.59375 17.96875 6.59375 36.375 \r\nQ 6.59375 54.828125 13.0625 64.515625 \r\nQ 19.53125 74.21875 31.78125 74.21875 \r\nz\r\n\" id=\"DejaVuSans-48\"/>\r\n        <path d=\"M 10.6875 12.40625 \r\nL 21 12.40625 \r\nL 21 0 \r\nL 10.6875 0 \r\nz\r\n\" id=\"DejaVuSans-46\"/>\r\n       </defs>\r\n       <use xlink:href=\"#DejaVuSans-48\"/>\r\n       <use x=\"63.623047\" xlink:href=\"#DejaVuSans-46\"/>\r\n       <use x=\"95.410156\" xlink:href=\"#DejaVuSans-48\"/>\r\n       <use x=\"159.033203\" xlink:href=\"#DejaVuSans-48\"/>\r\n      </g>\r\n     </g>\r\n    </g>\r\n    <g id=\"xtick_2\">\r\n     <g id=\"line2d_2\">\r\n      <g>\r\n       <use style=\"stroke:#000000;stroke-width:0.8;\" x=\"100.533625\" xlink:href=\"#m0120542a49\" y=\"224.64\"/>\r\n      </g>\r\n     </g>\r\n     <g id=\"text_2\">\r\n      <!-- 0.02 -->\r\n      <g transform=\"translate(89.400813 239.238437)scale(0.1 -0.1)\">\r\n       <defs>\r\n        <path d=\"M 19.1875 8.296875 \r\nL 53.609375 8.296875 \r\nL 53.609375 0 \r\nL 7.328125 0 \r\nL 7.328125 8.296875 \r\nQ 12.9375 14.109375 22.625 23.890625 \r\nQ 32.328125 33.6875 34.8125 36.53125 \r\nQ 39.546875 41.84375 41.421875 45.53125 \r\nQ 43.3125 49.21875 43.3125 52.78125 \r\nQ 43.3125 58.59375 39.234375 62.25 \r\nQ 35.15625 65.921875 28.609375 65.921875 \r\nQ 23.96875 65.921875 18.8125 64.3125 \r\nQ 13.671875 62.703125 7.8125 59.421875 \r\nL 7.8125 69.390625 \r\nQ 13.765625 71.78125 18.9375 73 \r\nQ 24.125 74.21875 28.421875 74.21875 \r\nQ 39.75 74.21875 46.484375 68.546875 \r\nQ 53.21875 62.890625 53.21875 53.421875 \r\nQ 53.21875 48.921875 51.53125 44.890625 \r\nQ 49.859375 40.875 45.40625 35.40625 \r\nQ 44.1875 33.984375 37.640625 27.21875 \r\nQ 31.109375 20.453125 19.1875 8.296875 \r\nz\r\n\" id=\"DejaVuSans-50\"/>\r\n       </defs>\r\n       <use xlink:href=\"#DejaVuSans-48\"/>\r\n       <use x=\"63.623047\" xlink:href=\"#DejaVuSans-46\"/>\r\n       <use x=\"95.410156\" xlink:href=\"#DejaVuSans-48\"/>\r\n       <use x=\"159.033203\" xlink:href=\"#DejaVuSans-50\"/>\r\n      </g>\r\n     </g>\r\n    </g>\r\n    <g id=\"xtick_3\">\r\n     <g id=\"line2d_3\">\r\n      <g>\r\n       <use style=\"stroke:#000000;stroke-width:0.8;\" x=\"154.101625\" xlink:href=\"#m0120542a49\" y=\"224.64\"/>\r\n      </g>\r\n     </g>\r\n     <g id=\"text_3\">\r\n      <!-- 0.04 -->\r\n      <g transform=\"translate(142.968813 239.238437)scale(0.1 -0.1)\">\r\n       <defs>\r\n        <path d=\"M 37.796875 64.3125 \r\nL 12.890625 25.390625 \r\nL 37.796875 25.390625 \r\nz\r\nM 35.203125 72.90625 \r\nL 47.609375 72.90625 \r\nL 47.609375 25.390625 \r\nL 58.015625 25.390625 \r\nL 58.015625 17.1875 \r\nL 47.609375 17.1875 \r\nL 47.609375 0 \r\nL 37.796875 0 \r\nL 37.796875 17.1875 \r\nL 4.890625 17.1875 \r\nL 4.890625 26.703125 \r\nz\r\n\" id=\"DejaVuSans-52\"/>\r\n       </defs>\r\n       <use xlink:href=\"#DejaVuSans-48\"/>\r\n       <use x=\"63.623047\" xlink:href=\"#DejaVuSans-46\"/>\r\n       <use x=\"95.410156\" xlink:href=\"#DejaVuSans-48\"/>\r\n       <use x=\"159.033203\" xlink:href=\"#DejaVuSans-52\"/>\r\n      </g>\r\n     </g>\r\n    </g>\r\n    <g id=\"xtick_4\">\r\n     <g id=\"line2d_4\">\r\n      <g>\r\n       <use style=\"stroke:#000000;stroke-width:0.8;\" x=\"207.669625\" xlink:href=\"#m0120542a49\" y=\"224.64\"/>\r\n      </g>\r\n     </g>\r\n     <g id=\"text_4\">\r\n      <!-- 0.06 -->\r\n      <g transform=\"translate(196.536813 239.238437)scale(0.1 -0.1)\">\r\n       <defs>\r\n        <path d=\"M 33.015625 40.375 \r\nQ 26.375 40.375 22.484375 35.828125 \r\nQ 18.609375 31.296875 18.609375 23.390625 \r\nQ 18.609375 15.53125 22.484375 10.953125 \r\nQ 26.375 6.390625 33.015625 6.390625 \r\nQ 39.65625 6.390625 43.53125 10.953125 \r\nQ 47.40625 15.53125 47.40625 23.390625 \r\nQ 47.40625 31.296875 43.53125 35.828125 \r\nQ 39.65625 40.375 33.015625 40.375 \r\nz\r\nM 52.59375 71.296875 \r\nL 52.59375 62.3125 \r\nQ 48.875 64.0625 45.09375 64.984375 \r\nQ 41.3125 65.921875 37.59375 65.921875 \r\nQ 27.828125 65.921875 22.671875 59.328125 \r\nQ 17.53125 52.734375 16.796875 39.40625 \r\nQ 19.671875 43.65625 24.015625 45.921875 \r\nQ 28.375 48.1875 33.59375 48.1875 \r\nQ 44.578125 48.1875 50.953125 41.515625 \r\nQ 57.328125 34.859375 57.328125 23.390625 \r\nQ 57.328125 12.15625 50.6875 5.359375 \r\nQ 44.046875 -1.421875 33.015625 -1.421875 \r\nQ 20.359375 -1.421875 13.671875 8.265625 \r\nQ 6.984375 17.96875 6.984375 36.375 \r\nQ 6.984375 53.65625 15.1875 63.9375 \r\nQ 23.390625 74.21875 37.203125 74.21875 \r\nQ 40.921875 74.21875 44.703125 73.484375 \r\nQ 48.484375 72.75 52.59375 71.296875 \r\nz\r\n\" id=\"DejaVuSans-54\"/>\r\n       </defs>\r\n       <use xlink:href=\"#DejaVuSans-48\"/>\r\n       <use x=\"63.623047\" xlink:href=\"#DejaVuSans-46\"/>\r\n       <use x=\"95.410156\" xlink:href=\"#DejaVuSans-48\"/>\r\n       <use x=\"159.033203\" xlink:href=\"#DejaVuSans-54\"/>\r\n      </g>\r\n     </g>\r\n    </g>\r\n    <g id=\"xtick_5\">\r\n     <g id=\"line2d_5\">\r\n      <g>\r\n       <use style=\"stroke:#000000;stroke-width:0.8;\" x=\"261.237625\" xlink:href=\"#m0120542a49\" y=\"224.64\"/>\r\n      </g>\r\n     </g>\r\n     <g id=\"text_5\">\r\n      <!-- 0.08 -->\r\n      <g transform=\"translate(250.104813 239.238437)scale(0.1 -0.1)\">\r\n       <defs>\r\n        <path d=\"M 31.78125 34.625 \r\nQ 24.75 34.625 20.71875 30.859375 \r\nQ 16.703125 27.09375 16.703125 20.515625 \r\nQ 16.703125 13.921875 20.71875 10.15625 \r\nQ 24.75 6.390625 31.78125 6.390625 \r\nQ 38.8125 6.390625 42.859375 10.171875 \r\nQ 46.921875 13.96875 46.921875 20.515625 \r\nQ 46.921875 27.09375 42.890625 30.859375 \r\nQ 38.875 34.625 31.78125 34.625 \r\nz\r\nM 21.921875 38.8125 \r\nQ 15.578125 40.375 12.03125 44.71875 \r\nQ 8.5 49.078125 8.5 55.328125 \r\nQ 8.5 64.0625 14.71875 69.140625 \r\nQ 20.953125 74.21875 31.78125 74.21875 \r\nQ 42.671875 74.21875 48.875 69.140625 \r\nQ 55.078125 64.0625 55.078125 55.328125 \r\nQ 55.078125 49.078125 51.53125 44.71875 \r\nQ 48 40.375 41.703125 38.8125 \r\nQ 48.828125 37.15625 52.796875 32.3125 \r\nQ 56.78125 27.484375 56.78125 20.515625 \r\nQ 56.78125 9.90625 50.3125 4.234375 \r\nQ 43.84375 -1.421875 31.78125 -1.421875 \r\nQ 19.734375 -1.421875 13.25 4.234375 \r\nQ 6.78125 9.90625 6.78125 20.515625 \r\nQ 6.78125 27.484375 10.78125 32.3125 \r\nQ 14.796875 37.15625 21.921875 38.8125 \r\nz\r\nM 18.3125 54.390625 \r\nQ 18.3125 48.734375 21.84375 45.5625 \r\nQ 25.390625 42.390625 31.78125 42.390625 \r\nQ 38.140625 42.390625 41.71875 45.5625 \r\nQ 45.3125 48.734375 45.3125 54.390625 \r\nQ 45.3125 60.0625 41.71875 63.234375 \r\nQ 38.140625 66.40625 31.78125 66.40625 \r\nQ 25.390625 66.40625 21.84375 63.234375 \r\nQ 18.3125 60.0625 18.3125 54.390625 \r\nz\r\n\" id=\"DejaVuSans-56\"/>\r\n       </defs>\r\n       <use xlink:href=\"#DejaVuSans-48\"/>\r\n       <use x=\"63.623047\" xlink:href=\"#DejaVuSans-46\"/>\r\n       <use x=\"95.410156\" xlink:href=\"#DejaVuSans-48\"/>\r\n       <use x=\"159.033203\" xlink:href=\"#DejaVuSans-56\"/>\r\n      </g>\r\n     </g>\r\n    </g>\r\n    <g id=\"xtick_6\">\r\n     <g id=\"line2d_6\">\r\n      <g>\r\n       <use style=\"stroke:#000000;stroke-width:0.8;\" x=\"314.805625\" xlink:href=\"#m0120542a49\" y=\"224.64\"/>\r\n      </g>\r\n     </g>\r\n     <g id=\"text_6\">\r\n      <!-- 0.10 -->\r\n      <g transform=\"translate(303.672813 239.238437)scale(0.1 -0.1)\">\r\n       <defs>\r\n        <path d=\"M 12.40625 8.296875 \r\nL 28.515625 8.296875 \r\nL 28.515625 63.921875 \r\nL 10.984375 60.40625 \r\nL 10.984375 69.390625 \r\nL 28.421875 72.90625 \r\nL 38.28125 72.90625 \r\nL 38.28125 8.296875 \r\nL 54.390625 8.296875 \r\nL 54.390625 0 \r\nL 12.40625 0 \r\nz\r\n\" id=\"DejaVuSans-49\"/>\r\n       </defs>\r\n       <use xlink:href=\"#DejaVuSans-48\"/>\r\n       <use x=\"63.623047\" xlink:href=\"#DejaVuSans-46\"/>\r\n       <use x=\"95.410156\" xlink:href=\"#DejaVuSans-49\"/>\r\n       <use x=\"159.033203\" xlink:href=\"#DejaVuSans-48\"/>\r\n      </g>\r\n     </g>\r\n    </g>\r\n    <g id=\"xtick_7\">\r\n     <g id=\"line2d_7\">\r\n      <g>\r\n       <use style=\"stroke:#000000;stroke-width:0.8;\" x=\"368.373625\" xlink:href=\"#m0120542a49\" y=\"224.64\"/>\r\n      </g>\r\n     </g>\r\n     <g id=\"text_7\">\r\n      <!-- 0.12 -->\r\n      <g transform=\"translate(357.240813 239.238437)scale(0.1 -0.1)\">\r\n       <use xlink:href=\"#DejaVuSans-48\"/>\r\n       <use x=\"63.623047\" xlink:href=\"#DejaVuSans-46\"/>\r\n       <use x=\"95.410156\" xlink:href=\"#DejaVuSans-49\"/>\r\n       <use x=\"159.033203\" xlink:href=\"#DejaVuSans-50\"/>\r\n      </g>\r\n     </g>\r\n    </g>\r\n    <g id=\"text_8\">\r\n     <!-- Loss_mae -->\r\n     <g transform=\"translate(189.8875 252.638437)scale(0.1 -0.1)\">\r\n      <defs>\r\n       <path d=\"M 9.8125 72.90625 \r\nL 19.671875 72.90625 \r\nL 19.671875 8.296875 \r\nL 55.171875 8.296875 \r\nL 55.171875 0 \r\nL 9.8125 0 \r\nz\r\n\" id=\"DejaVuSans-76\"/>\r\n       <path d=\"M 30.609375 48.390625 \r\nQ 23.390625 48.390625 19.1875 42.75 \r\nQ 14.984375 37.109375 14.984375 27.296875 \r\nQ 14.984375 17.484375 19.15625 11.84375 \r\nQ 23.34375 6.203125 30.609375 6.203125 \r\nQ 37.796875 6.203125 41.984375 11.859375 \r\nQ 46.1875 17.53125 46.1875 27.296875 \r\nQ 46.1875 37.015625 41.984375 42.703125 \r\nQ 37.796875 48.390625 30.609375 48.390625 \r\nz\r\nM 30.609375 56 \r\nQ 42.328125 56 49.015625 48.375 \r\nQ 55.71875 40.765625 55.71875 27.296875 \r\nQ 55.71875 13.875 49.015625 6.21875 \r\nQ 42.328125 -1.421875 30.609375 -1.421875 \r\nQ 18.84375 -1.421875 12.171875 6.21875 \r\nQ 5.515625 13.875 5.515625 27.296875 \r\nQ 5.515625 40.765625 12.171875 48.375 \r\nQ 18.84375 56 30.609375 56 \r\nz\r\n\" id=\"DejaVuSans-111\"/>\r\n       <path d=\"M 44.28125 53.078125 \r\nL 44.28125 44.578125 \r\nQ 40.484375 46.53125 36.375 47.5 \r\nQ 32.28125 48.484375 27.875 48.484375 \r\nQ 21.1875 48.484375 17.84375 46.4375 \r\nQ 14.5 44.390625 14.5 40.28125 \r\nQ 14.5 37.15625 16.890625 35.375 \r\nQ 19.28125 33.59375 26.515625 31.984375 \r\nL 29.59375 31.296875 \r\nQ 39.15625 29.25 43.1875 25.515625 \r\nQ 47.21875 21.78125 47.21875 15.09375 \r\nQ 47.21875 7.46875 41.1875 3.015625 \r\nQ 35.15625 -1.421875 24.609375 -1.421875 \r\nQ 20.21875 -1.421875 15.453125 -0.5625 \r\nQ 10.6875 0.296875 5.421875 2 \r\nL 5.421875 11.28125 \r\nQ 10.40625 8.6875 15.234375 7.390625 \r\nQ 20.0625 6.109375 24.8125 6.109375 \r\nQ 31.15625 6.109375 34.5625 8.28125 \r\nQ 37.984375 10.453125 37.984375 14.40625 \r\nQ 37.984375 18.0625 35.515625 20.015625 \r\nQ 33.0625 21.96875 24.703125 23.78125 \r\nL 21.578125 24.515625 \r\nQ 13.234375 26.265625 9.515625 29.90625 \r\nQ 5.8125 33.546875 5.8125 39.890625 \r\nQ 5.8125 47.609375 11.28125 51.796875 \r\nQ 16.75 56 26.8125 56 \r\nQ 31.78125 56 36.171875 55.265625 \r\nQ 40.578125 54.546875 44.28125 53.078125 \r\nz\r\n\" id=\"DejaVuSans-115\"/>\r\n       <path d=\"M 50.984375 -16.609375 \r\nL 50.984375 -23.578125 \r\nL -0.984375 -23.578125 \r\nL -0.984375 -16.609375 \r\nz\r\n\" id=\"DejaVuSans-95\"/>\r\n       <path d=\"M 52 44.1875 \r\nQ 55.375 50.25 60.0625 53.125 \r\nQ 64.75 56 71.09375 56 \r\nQ 79.640625 56 84.28125 50.015625 \r\nQ 88.921875 44.046875 88.921875 33.015625 \r\nL 88.921875 0 \r\nL 79.890625 0 \r\nL 79.890625 32.71875 \r\nQ 79.890625 40.578125 77.09375 44.375 \r\nQ 74.3125 48.1875 68.609375 48.1875 \r\nQ 61.625 48.1875 57.5625 43.546875 \r\nQ 53.515625 38.921875 53.515625 30.90625 \r\nL 53.515625 0 \r\nL 44.484375 0 \r\nL 44.484375 32.71875 \r\nQ 44.484375 40.625 41.703125 44.40625 \r\nQ 38.921875 48.1875 33.109375 48.1875 \r\nQ 26.21875 48.1875 22.15625 43.53125 \r\nQ 18.109375 38.875 18.109375 30.90625 \r\nL 18.109375 0 \r\nL 9.078125 0 \r\nL 9.078125 54.6875 \r\nL 18.109375 54.6875 \r\nL 18.109375 46.1875 \r\nQ 21.1875 51.21875 25.484375 53.609375 \r\nQ 29.78125 56 35.6875 56 \r\nQ 41.65625 56 45.828125 52.96875 \r\nQ 50 49.953125 52 44.1875 \r\nz\r\n\" id=\"DejaVuSans-109\"/>\r\n       <path d=\"M 34.28125 27.484375 \r\nQ 23.390625 27.484375 19.1875 25 \r\nQ 14.984375 22.515625 14.984375 16.5 \r\nQ 14.984375 11.71875 18.140625 8.90625 \r\nQ 21.296875 6.109375 26.703125 6.109375 \r\nQ 34.1875 6.109375 38.703125 11.40625 \r\nQ 43.21875 16.703125 43.21875 25.484375 \r\nL 43.21875 27.484375 \r\nz\r\nM 52.203125 31.203125 \r\nL 52.203125 0 \r\nL 43.21875 0 \r\nL 43.21875 8.296875 \r\nQ 40.140625 3.328125 35.546875 0.953125 \r\nQ 30.953125 -1.421875 24.3125 -1.421875 \r\nQ 15.921875 -1.421875 10.953125 3.296875 \r\nQ 6 8.015625 6 15.921875 \r\nQ 6 25.140625 12.171875 29.828125 \r\nQ 18.359375 34.515625 30.609375 34.515625 \r\nL 43.21875 34.515625 \r\nL 43.21875 35.40625 \r\nQ 43.21875 41.609375 39.140625 45 \r\nQ 35.0625 48.390625 27.6875 48.390625 \r\nQ 23 48.390625 18.546875 47.265625 \r\nQ 14.109375 46.140625 10.015625 43.890625 \r\nL 10.015625 52.203125 \r\nQ 14.9375 54.109375 19.578125 55.046875 \r\nQ 24.21875 56 28.609375 56 \r\nQ 40.484375 56 46.34375 49.84375 \r\nQ 52.203125 43.703125 52.203125 31.203125 \r\nz\r\n\" id=\"DejaVuSans-97\"/>\r\n       <path d=\"M 56.203125 29.59375 \r\nL 56.203125 25.203125 \r\nL 14.890625 25.203125 \r\nQ 15.484375 15.921875 20.484375 11.0625 \r\nQ 25.484375 6.203125 34.421875 6.203125 \r\nQ 39.59375 6.203125 44.453125 7.46875 \r\nQ 49.3125 8.734375 54.109375 11.28125 \r\nL 54.109375 2.78125 \r\nQ 49.265625 0.734375 44.1875 -0.34375 \r\nQ 39.109375 -1.421875 33.890625 -1.421875 \r\nQ 20.796875 -1.421875 13.15625 6.1875 \r\nQ 5.515625 13.8125 5.515625 26.8125 \r\nQ 5.515625 40.234375 12.765625 48.109375 \r\nQ 20.015625 56 32.328125 56 \r\nQ 43.359375 56 49.78125 48.890625 \r\nQ 56.203125 41.796875 56.203125 29.59375 \r\nz\r\nM 47.21875 32.234375 \r\nQ 47.125 39.59375 43.09375 43.984375 \r\nQ 39.0625 48.390625 32.421875 48.390625 \r\nQ 24.90625 48.390625 20.390625 44.140625 \r\nQ 15.875 39.890625 15.1875 32.171875 \r\nz\r\n\" id=\"DejaVuSans-101\"/>\r\n      </defs>\r\n      <use xlink:href=\"#DejaVuSans-76\"/>\r\n      <use x=\"53.962891\" xlink:href=\"#DejaVuSans-111\"/>\r\n      <use x=\"115.144531\" xlink:href=\"#DejaVuSans-115\"/>\r\n      <use x=\"167.244141\" xlink:href=\"#DejaVuSans-115\"/>\r\n      <use x=\"219.34375\" xlink:href=\"#DejaVuSans-95\"/>\r\n      <use x=\"269.34375\" xlink:href=\"#DejaVuSans-109\"/>\r\n      <use x=\"366.755859\" xlink:href=\"#DejaVuSans-97\"/>\r\n      <use x=\"428.035156\" xlink:href=\"#DejaVuSans-101\"/>\r\n     </g>\r\n    </g>\r\n   </g>\r\n   <g id=\"matplotlib.axis_2\">\r\n    <g id=\"ytick_1\">\r\n     <g id=\"line2d_8\">\r\n      <defs>\r\n       <path d=\"M 0 0 \r\nL -3.5 0 \r\n\" id=\"m0a0102b047\" style=\"stroke:#000000;stroke-width:0.8;\"/>\r\n      </defs>\r\n      <g>\r\n       <use style=\"stroke:#000000;stroke-width:0.8;\" x=\"46.965625\" xlink:href=\"#m0a0102b047\" y=\"224.64\"/>\r\n      </g>\r\n     </g>\r\n     <g id=\"text_9\">\r\n      <!-- 0 -->\r\n      <g transform=\"translate(33.603125 228.439219)scale(0.1 -0.1)\">\r\n       <use xlink:href=\"#DejaVuSans-48\"/>\r\n      </g>\r\n     </g>\r\n    </g>\r\n    <g id=\"ytick_2\">\r\n     <g id=\"line2d_9\">\r\n      <g>\r\n       <use style=\"stroke:#000000;stroke-width:0.8;\" x=\"46.965625\" xlink:href=\"#m0a0102b047\" y=\"197.312579\"/>\r\n      </g>\r\n     </g>\r\n     <g id=\"text_10\">\r\n      <!-- 20 -->\r\n      <g transform=\"translate(27.240625 201.111798)scale(0.1 -0.1)\">\r\n       <use xlink:href=\"#DejaVuSans-50\"/>\r\n       <use x=\"63.623047\" xlink:href=\"#DejaVuSans-48\"/>\r\n      </g>\r\n     </g>\r\n    </g>\r\n    <g id=\"ytick_3\">\r\n     <g id=\"line2d_10\">\r\n      <g>\r\n       <use style=\"stroke:#000000;stroke-width:0.8;\" x=\"46.965625\" xlink:href=\"#m0a0102b047\" y=\"169.985158\"/>\r\n      </g>\r\n     </g>\r\n     <g id=\"text_11\">\r\n      <!-- 40 -->\r\n      <g transform=\"translate(27.240625 173.784377)scale(0.1 -0.1)\">\r\n       <use xlink:href=\"#DejaVuSans-52\"/>\r\n       <use x=\"63.623047\" xlink:href=\"#DejaVuSans-48\"/>\r\n      </g>\r\n     </g>\r\n    </g>\r\n    <g id=\"ytick_4\">\r\n     <g id=\"line2d_11\">\r\n      <g>\r\n       <use style=\"stroke:#000000;stroke-width:0.8;\" x=\"46.965625\" xlink:href=\"#m0a0102b047\" y=\"142.657737\"/>\r\n      </g>\r\n     </g>\r\n     <g id=\"text_12\">\r\n      <!-- 60 -->\r\n      <g transform=\"translate(27.240625 146.456956)scale(0.1 -0.1)\">\r\n       <use xlink:href=\"#DejaVuSans-54\"/>\r\n       <use x=\"63.623047\" xlink:href=\"#DejaVuSans-48\"/>\r\n      </g>\r\n     </g>\r\n    </g>\r\n    <g id=\"ytick_5\">\r\n     <g id=\"line2d_12\">\r\n      <g>\r\n       <use style=\"stroke:#000000;stroke-width:0.8;\" x=\"46.965625\" xlink:href=\"#m0a0102b047\" y=\"115.330316\"/>\r\n      </g>\r\n     </g>\r\n     <g id=\"text_13\">\r\n      <!-- 80 -->\r\n      <g transform=\"translate(27.240625 119.129535)scale(0.1 -0.1)\">\r\n       <use xlink:href=\"#DejaVuSans-56\"/>\r\n       <use x=\"63.623047\" xlink:href=\"#DejaVuSans-48\"/>\r\n      </g>\r\n     </g>\r\n    </g>\r\n    <g id=\"ytick_6\">\r\n     <g id=\"line2d_13\">\r\n      <g>\r\n       <use style=\"stroke:#000000;stroke-width:0.8;\" x=\"46.965625\" xlink:href=\"#m0a0102b047\" y=\"88.002896\"/>\r\n      </g>\r\n     </g>\r\n     <g id=\"text_14\">\r\n      <!-- 100 -->\r\n      <g transform=\"translate(20.878125 91.802114)scale(0.1 -0.1)\">\r\n       <use xlink:href=\"#DejaVuSans-49\"/>\r\n       <use x=\"63.623047\" xlink:href=\"#DejaVuSans-48\"/>\r\n       <use x=\"127.246094\" xlink:href=\"#DejaVuSans-48\"/>\r\n      </g>\r\n     </g>\r\n    </g>\r\n    <g id=\"ytick_7\">\r\n     <g id=\"line2d_14\">\r\n      <g>\r\n       <use style=\"stroke:#000000;stroke-width:0.8;\" x=\"46.965625\" xlink:href=\"#m0a0102b047\" y=\"60.675475\"/>\r\n      </g>\r\n     </g>\r\n     <g id=\"text_15\">\r\n      <!-- 120 -->\r\n      <g transform=\"translate(20.878125 64.474693)scale(0.1 -0.1)\">\r\n       <use xlink:href=\"#DejaVuSans-49\"/>\r\n       <use x=\"63.623047\" xlink:href=\"#DejaVuSans-50\"/>\r\n       <use x=\"127.246094\" xlink:href=\"#DejaVuSans-48\"/>\r\n      </g>\r\n     </g>\r\n    </g>\r\n    <g id=\"ytick_8\">\r\n     <g id=\"line2d_15\">\r\n      <g>\r\n       <use style=\"stroke:#000000;stroke-width:0.8;\" x=\"46.965625\" xlink:href=\"#m0a0102b047\" y=\"33.348054\"/>\r\n      </g>\r\n     </g>\r\n     <g id=\"text_16\">\r\n      <!-- 140 -->\r\n      <g transform=\"translate(20.878125 37.147273)scale(0.1 -0.1)\">\r\n       <use xlink:href=\"#DejaVuSans-49\"/>\r\n       <use x=\"63.623047\" xlink:href=\"#DejaVuSans-52\"/>\r\n       <use x=\"127.246094\" xlink:href=\"#DejaVuSans-48\"/>\r\n      </g>\r\n     </g>\r\n    </g>\r\n    <g id=\"text_17\">\r\n     <!-- Density -->\r\n     <g transform=\"translate(14.798438 134.928594)rotate(-90)scale(0.1 -0.1)\">\r\n      <defs>\r\n       <path d=\"M 19.671875 64.796875 \r\nL 19.671875 8.109375 \r\nL 31.59375 8.109375 \r\nQ 46.6875 8.109375 53.6875 14.9375 \r\nQ 60.6875 21.78125 60.6875 36.53125 \r\nQ 60.6875 51.171875 53.6875 57.984375 \r\nQ 46.6875 64.796875 31.59375 64.796875 \r\nz\r\nM 9.8125 72.90625 \r\nL 30.078125 72.90625 \r\nQ 51.265625 72.90625 61.171875 64.09375 \r\nQ 71.09375 55.28125 71.09375 36.53125 \r\nQ 71.09375 17.671875 61.125 8.828125 \r\nQ 51.171875 0 30.078125 0 \r\nL 9.8125 0 \r\nz\r\n\" id=\"DejaVuSans-68\"/>\r\n       <path d=\"M 54.890625 33.015625 \r\nL 54.890625 0 \r\nL 45.90625 0 \r\nL 45.90625 32.71875 \r\nQ 45.90625 40.484375 42.875 44.328125 \r\nQ 39.84375 48.1875 33.796875 48.1875 \r\nQ 26.515625 48.1875 22.3125 43.546875 \r\nQ 18.109375 38.921875 18.109375 30.90625 \r\nL 18.109375 0 \r\nL 9.078125 0 \r\nL 9.078125 54.6875 \r\nL 18.109375 54.6875 \r\nL 18.109375 46.1875 \r\nQ 21.34375 51.125 25.703125 53.5625 \r\nQ 30.078125 56 35.796875 56 \r\nQ 45.21875 56 50.046875 50.171875 \r\nQ 54.890625 44.34375 54.890625 33.015625 \r\nz\r\n\" id=\"DejaVuSans-110\"/>\r\n       <path d=\"M 9.421875 54.6875 \r\nL 18.40625 54.6875 \r\nL 18.40625 0 \r\nL 9.421875 0 \r\nz\r\nM 9.421875 75.984375 \r\nL 18.40625 75.984375 \r\nL 18.40625 64.59375 \r\nL 9.421875 64.59375 \r\nz\r\n\" id=\"DejaVuSans-105\"/>\r\n       <path d=\"M 18.3125 70.21875 \r\nL 18.3125 54.6875 \r\nL 36.8125 54.6875 \r\nL 36.8125 47.703125 \r\nL 18.3125 47.703125 \r\nL 18.3125 18.015625 \r\nQ 18.3125 11.328125 20.140625 9.421875 \r\nQ 21.96875 7.515625 27.59375 7.515625 \r\nL 36.8125 7.515625 \r\nL 36.8125 0 \r\nL 27.59375 0 \r\nQ 17.1875 0 13.234375 3.875 \r\nQ 9.28125 7.765625 9.28125 18.015625 \r\nL 9.28125 47.703125 \r\nL 2.6875 47.703125 \r\nL 2.6875 54.6875 \r\nL 9.28125 54.6875 \r\nL 9.28125 70.21875 \r\nz\r\n\" id=\"DejaVuSans-116\"/>\r\n       <path d=\"M 32.171875 -5.078125 \r\nQ 28.375 -14.84375 24.75 -17.8125 \r\nQ 21.140625 -20.796875 15.09375 -20.796875 \r\nL 7.90625 -20.796875 \r\nL 7.90625 -13.28125 \r\nL 13.1875 -13.28125 \r\nQ 16.890625 -13.28125 18.9375 -11.515625 \r\nQ 21 -9.765625 23.484375 -3.21875 \r\nL 25.09375 0.875 \r\nL 2.984375 54.6875 \r\nL 12.5 54.6875 \r\nL 29.59375 11.921875 \r\nL 46.6875 54.6875 \r\nL 56.203125 54.6875 \r\nz\r\n\" id=\"DejaVuSans-121\"/>\r\n      </defs>\r\n      <use xlink:href=\"#DejaVuSans-68\"/>\r\n      <use x=\"77.001953\" xlink:href=\"#DejaVuSans-101\"/>\r\n      <use x=\"138.525391\" xlink:href=\"#DejaVuSans-110\"/>\r\n      <use x=\"201.904297\" xlink:href=\"#DejaVuSans-115\"/>\r\n      <use x=\"254.003906\" xlink:href=\"#DejaVuSans-105\"/>\r\n      <use x=\"281.787109\" xlink:href=\"#DejaVuSans-116\"/>\r\n      <use x=\"320.996094\" xlink:href=\"#DejaVuSans-121\"/>\r\n     </g>\r\n    </g>\r\n   </g>\r\n   <g id=\"line2d_16\">\r\n    <path clip-path=\"url(#p0c53b6ea03)\" d=\"M 51.506769 224.638877 \r\nL 53.311364 224.597789 \r\nL 55.115958 223.94216 \r\nL 56.920553 218.898527 \r\nL 58.725147 198.503877 \r\nL 60.529742 154.225262 \r\nL 62.334336 100.971904 \r\nL 64.138931 57.811413 \r\nL 65.943525 28.639574 \r\nL 67.74812 17.554286 \r\nL 69.552714 22.734085 \r\nL 71.357309 36.73901 \r\nL 73.161903 59.834542 \r\nL 76.771092 119.514709 \r\nL 78.575687 141.633344 \r\nL 80.380282 158.488698 \r\nL 82.184876 172.978187 \r\nL 83.989471 184.01053 \r\nL 85.794065 192.615667 \r\nL 87.59866 199.527242 \r\nL 89.403254 204.172891 \r\nL 91.207849 206.937401 \r\nL 93.012443 209.929731 \r\nL 94.817038 213.267393 \r\nL 96.621632 215.417055 \r\nL 98.426227 216.51322 \r\nL 100.230821 217.315557 \r\nL 103.840011 219.967468 \r\nL 105.644605 220.645328 \r\nL 111.058389 221.801776 \r\nL 112.862983 222.331453 \r\nL 114.667578 222.695265 \r\nL 116.472172 222.929354 \r\nL 118.276767 223.046266 \r\nL 120.081361 223.013615 \r\nL 123.69055 223.574214 \r\nL 125.495145 223.638444 \r\nL 129.104334 223.324242 \r\nL 132.713523 223.499623 \r\nL 134.518118 223.437886 \r\nL 136.322712 223.595763 \r\nL 138.127307 223.961521 \r\nL 143.54109 224.398041 \r\nL 148.954874 224.276769 \r\nL 156.173252 224.438552 \r\nL 201.288115 224.60744 \r\nL 204.897304 224.576913 \r\nL 222.94325 224.64 \r\nL 389.965625 224.64 \r\nL 389.965625 224.64 \r\n\" style=\"fill:none;stroke:#0000ff;stroke-linecap:square;stroke-width:1.5;\"/>\r\n   </g>\r\n   <g id=\"line2d_17\">\r\n    <path clip-path=\"url(#p0c53b6ea03)\" d=\"M 49.991526 224.621764 \r\nL 51.791781 224.434507 \r\nL 53.592036 223.17017 \r\nL 55.392291 217.639951 \r\nL 57.192545 201.461622 \r\nL 58.9928 169.168569 \r\nL 62.59331 78.363448 \r\nL 64.393565 44.168527 \r\nL 66.193819 28.018316 \r\nL 67.994074 28.83757 \r\nL 69.794329 40.66271 \r\nL 71.594584 57.979739 \r\nL 73.394839 78.394136 \r\nL 78.795603 145.68596 \r\nL 80.595858 164.61821 \r\nL 82.396113 178.724326 \r\nL 84.196368 188.598771 \r\nL 85.996622 195.563234 \r\nL 89.597132 206.655339 \r\nL 91.397387 211.150973 \r\nL 93.197642 214.029813 \r\nL 94.997896 215.476915 \r\nL 98.598406 217.142541 \r\nL 102.198916 219.516045 \r\nL 103.99917 220.115944 \r\nL 105.799425 220.365215 \r\nL 109.399935 221.126505 \r\nL 113.000444 221.399453 \r\nL 114.800699 221.821481 \r\nL 118.401209 223.434354 \r\nL 120.201464 223.712664 \r\nL 123.801973 223.542145 \r\nL 129.202738 223.091767 \r\nL 132.803247 223.399459 \r\nL 136.403757 223.851315 \r\nL 143.604776 223.73222 \r\nL 149.005541 224.304751 \r\nL 152.60605 224.379678 \r\nL 156.20656 224.583873 \r\nL 159.807069 224.538522 \r\nL 167.008089 224.269012 \r\nL 172.408853 224.608454 \r\nL 176.009363 224.513768 \r\nL 179.609872 224.445906 \r\nL 185.010637 224.625365 \r\nL 195.812166 224.525177 \r\nL 204.81344 224.609475 \r\nL 210.214204 224.554341 \r\nL 213.814714 224.596958 \r\nL 224.616242 224.446801 \r\nL 228.216752 224.539454 \r\nL 233.617516 224.597878 \r\nL 240.818536 224.639995 \r\nL 389.965625 224.639999 \r\nL 389.965625 224.639999 \r\n\" style=\"fill:none;stroke:#ff0000;stroke-linecap:square;stroke-width:1.5;\"/>\r\n   </g>\r\n   <g id=\"patch_3\">\r\n    <path d=\"M 46.965625 224.64 \r\nL 46.965625 7.2 \r\n\" style=\"fill:none;stroke:#000000;stroke-linecap:square;stroke-linejoin:miter;stroke-width:0.8;\"/>\r\n   </g>\r\n   <g id=\"patch_4\">\r\n    <path d=\"M 381.765625 224.64 \r\nL 381.765625 7.2 \r\n\" style=\"fill:none;stroke:#000000;stroke-linecap:square;stroke-linejoin:miter;stroke-width:0.8;\"/>\r\n   </g>\r\n   <g id=\"patch_5\">\r\n    <path d=\"M 46.965625 224.64 \r\nL 381.765625 224.64 \r\n\" style=\"fill:none;stroke:#000000;stroke-linecap:square;stroke-linejoin:miter;stroke-width:0.8;\"/>\r\n   </g>\r\n   <g id=\"patch_6\">\r\n    <path d=\"M 46.965625 7.2 \r\nL 381.765625 7.2 \r\n\" style=\"fill:none;stroke:#000000;stroke-linecap:square;stroke-linejoin:miter;stroke-width:0.8;\"/>\r\n   </g>\r\n  </g>\r\n </g>\r\n <defs>\r\n  <clipPath id=\"p0c53b6ea03\">\r\n   <rect height=\"217.44\" width=\"334.8\" x=\"46.965625\" y=\"7.2\"/>\r\n  </clipPath>\r\n </defs>\r\n</svg>\r\n",
      "image/png": "[encoded data removed]"
     },
     "metadata": {
      "needs_background": "light"
     }
    }
   ],
   "source": [
    "import matplotlib.pyplot as plt\n",
    "import seaborn as sns\n",
    "\n",
    "# Normal data\n",
    "X = norm_df.drop(columns=['Date', 'Condition', 'GT Number'])\n",
    "Y = pd.DataFrame(model.predict(X.to_numpy()), index=X.index, columns=X.columns)\n",
    "\n",
    "norm_scored = pd.DataFrame(index=X.index)\n",
    "norm_scored['Loss_mae'] = np.mean(np.abs(Y-X), axis=1)\n",
    "norm_scored\n",
    "\n",
    "# Abnormal data\n",
    "X = abnorm_df.drop(columns=['Date', 'Condition', 'GT Number'])\n",
    "Y = pd.DataFrame(model.predict(X.to_numpy()), index=X.index, columns=X.columns)\n",
    "\n",
    "abnorm_scored = pd.DataFrame(index=X.index)\n",
    "abnorm_scored['Loss_mae'] = np.mean(np.abs(Y-X), axis=1)\n",
    "\n",
    "# Plot\n",
    "plt.figure()\n",
    "plt.xlim([0.0, 0.125])\n",
    "sns.distplot(norm_scored['Loss_mae'], bins=30, kde=True, color='blue', hist_kws=dict(edgecolor=\"k\", linewidth=1), hist=False)\n",
    "sns.distplot(abnorm_scored['Loss_mae'], bins=30, kde=True, color='red', hist_kws=dict(edgecolor=\"k\", linewidth=1), hist=False)\n",
    "plt.show()"
   ]
  },
  {
   "cell_type": "code",
   "execution_count": null,
   "metadata": {},
   "outputs": [],
   "source": []
  }
 ]
}