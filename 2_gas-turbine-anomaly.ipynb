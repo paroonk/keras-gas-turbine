{
 "metadata": {
  "language_info": {
   "codemirror_mode": {
    "name": "ipython",
    "version": 3
   },
   "file_extension": ".py",
   "mimetype": "text/x-python",
   "name": "python",
   "nbconvert_exporter": "python",
   "pygments_lexer": "ipython3",
   "version": "3.8.7-final"
  },
  "orig_nbformat": 2,
  "kernelspec": {
   "name": "python3",
   "display_name": "Python 3.8.7 64-bit",
   "metadata": {
    "interpreter": {
     "hash": "16c65ae9d4785578e68d0c5997eb8ab5b8cd92c162cfb9b6b36bfe368d3b3cf6"
    }
   }
  }
 },
 "nbformat": 4,
 "nbformat_minor": 2,
 "cells": [
  {
   "source": [
    "## Import Library"
   ],
   "cell_type": "markdown",
   "metadata": {}
  },
  {
   "cell_type": "code",
   "execution_count": 1,
   "metadata": {},
   "outputs": [],
   "source": [
    "import os\n",
    "import re\n",
    "import string\n",
    "import numpy as np\n",
    "import pandas as pd\n",
    "\n",
    "import tensorflow as tf\n",
    "from tensorflow import keras\n",
    "from tensorflow.keras import layers\n",
    "\n",
    "pd.set_option('display.max_columns', None)"
   ]
  },
  {
   "source": [
    "## Load dataset"
   ],
   "cell_type": "markdown",
   "metadata": {}
  },
  {
   "cell_type": "code",
   "execution_count": 2,
   "metadata": {},
   "outputs": [
    {
     "output_type": "execute_result",
     "data": {
      "text/plain": [
       "                 Date Condition  GT Number GT ACTIVE POWER  \\\n",
       "0 2019-01-01 00:00:00    Normal          1       24.961611   \n",
       "1 2019-01-01 01:00:00    Normal          1       24.955444   \n",
       "2 2019-01-01 02:00:00    Normal          1       25.000464   \n",
       "3 2019-01-01 03:00:00    Normal          1       24.991005   \n",
       "4 2019-01-01 04:00:00    Normal          1       24.997137   \n",
       "\n",
       "  AMBIENT PRESSURE SELECTED VALUE 1 AMBIENT PRESSURE SELECTED VALUE 2  \\\n",
       "0                         14.445444                         14.466763   \n",
       "1                         14.449742                         14.466154   \n",
       "2                         14.452401                         14.465545   \n",
       "3                         14.455040                         14.464936   \n",
       "4                         14.457680                         14.464328   \n",
       "\n",
       "  AMBIENT PRESSURE Point 1 AMBIENT PRESSURE Point 2  \\\n",
       "0              1002.279208              1002.764703   \n",
       "1              1002.073566              1002.430513   \n",
       "2              1001.667664              1002.095941   \n",
       "3              1001.346888              1001.791034   \n",
       "4              1001.380376              1001.838734   \n",
       "\n",
       "  GT INLET SCREEN DIFF. PRESS. GT INLET AIR DIFF. PRESS.  \\\n",
       "0                     0.579197                 -0.876408   \n",
       "1                     0.577017                 -0.874152   \n",
       "2                     0.576373                 -0.874066   \n",
       "3                     0.577296                 -0.875245   \n",
       "4                     0.575811                 -0.873603   \n",
       "\n",
       "  GT INLET FILTER HOUSE AIR TEMP. 1 GT INLET FILTER HOUSE AIR TEMP. 2  \\\n",
       "0                         24.942641                         24.955787   \n",
       "1                         24.495615                         24.543611   \n",
       "2                         23.527854                         23.712178   \n",
       "3                         23.437874                         23.408884   \n",
       "4                         23.488287                         23.156522   \n",
       "\n",
       "  GT INLET FILTER HOUSE AIR HUMIDITY 1 GT INLET FILTER HOUSE AIR HUMIDITY 2  \\\n",
       "0                            58.258275                            59.779050   \n",
       "1                            58.275939                            60.006663   \n",
       "2                            60.139831                            61.588245   \n",
       "3                            61.759290                            63.575023   \n",
       "4                            59.996988                            62.821445   \n",
       "\n",
       "  No.1 GT CHILLED WATER SUPPLY TEMP. SPRINT WATER FLOW  \\\n",
       "0                          44.426224          0.005570   \n",
       "1                          44.912449          0.005458   \n",
       "2                          44.869438          0.005346   \n",
       "3                          44.769728          0.005234   \n",
       "4                          45.163687          0.005016   \n",
       "\n",
       "  LP SPRINT TOTAL WATER FLOW LP SPRINT OPERATION HOUR VIGV POSITION SELECTED  \\\n",
       "0               98132.634463               465.728370              28.269185   \n",
       "1               98132.645325               465.729958              28.258613   \n",
       "2               98132.656186               465.731547              28.235135   \n",
       "3               98132.667047               465.733136              28.271122   \n",
       "4               98132.677294               465.734635              28.257159   \n",
       "\n",
       "  #1 VIGV POSITION #2 VIGV POSITION VBVBEL POSITION SELECTED  \\\n",
       "0        28.804726        27.735972                13.471984   \n",
       "1        28.784903        27.733255                13.214311   \n",
       "2        28.751349        27.717824                13.006690   \n",
       "3        28.787484        27.746527                13.205728   \n",
       "4        28.772606        27.744851                13.041475   \n",
       "\n",
       "  VSVSEL POSITION SELECTED No.1 INLET AIR HEATER LEVEL CV POS. DEMAND  \\\n",
       "0                72.954904                                  72.223297   \n",
       "1                72.702084                                  69.044871   \n",
       "2                72.625770                                  70.603622   \n",
       "3                72.627522                                  66.960869   \n",
       "4                72.401568                                  66.266544   \n",
       "\n",
       "  LP COMP. INLET TEMP. (T2) SELECTED GT INLET TEMP. (T10) SELECTED  \\\n",
       "0                          40.599394                     41.138421   \n",
       "1                          40.933119                     41.474002   \n",
       "2                          40.795232                     41.373230   \n",
       "3                          40.646761                     41.177816   \n",
       "4                          40.977436                     41.500466   \n",
       "\n",
       "  HP COMP. INLET TEMP. (T25) SELECTED HP COMP. DISCH. TEMP. (T3) SELECTED  \\\n",
       "0                          121.961115                          530.589712   \n",
       "1                          122.625872                          531.528906   \n",
       "2                          122.755831                          531.591234   \n",
       "3                          122.578655                          531.221143   \n",
       "4                          123.142678                          532.210247   \n",
       "\n",
       "  #1 HP COMP. INLET PRESS. (P25) #2 HP COMP. INLET PRESS. (P25)  \\\n",
       "0                     201.459786                     201.734075   \n",
       "1                     201.763867                     202.032457   \n",
       "2                     202.296723                     202.565203   \n",
       "3                     202.214404                     202.485291   \n",
       "4                     202.454875                     202.718491   \n",
       "\n",
       "  #1 HP COMP. DISCH. PRESS. (PS3) #2 HP COMP. DISCH. PRESS. (PS3)  \\\n",
       "0                     2061.697022                     2064.664860   \n",
       "1                     2062.207612                     2064.943401   \n",
       "2                     2064.342381                     2067.248927   \n",
       "3                     2064.332157                     2067.008883   \n",
       "4                     2064.448622                     2067.297641   \n",
       "\n",
       "  LP TURBINE INLET TEMP. (T48) SELECTED DIFFERENACE OF T48MAX AND T48MIN  \\\n",
       "0                            852.376481                        24.547630   \n",
       "1                            852.605385                        24.563439   \n",
       "2                            852.410639                        24.377013   \n",
       "3                            852.278768                        24.583750   \n",
       "4                            852.446505                        24.337068   \n",
       "\n",
       "  HP ROTOR SPEED (XN25) SELECTED LP ROTOR SPEED (XNSD) SELECTED  \\\n",
       "0                   10089.833398                    3629.223758   \n",
       "1                   10089.025464                    3629.442142   \n",
       "2                   10087.886271                    3630.881414   \n",
       "3                   10085.513636                    3632.125342   \n",
       "4                   10084.308876                    3631.749749   \n",
       "\n",
       "  Fuel Gas Volume Flow LOWER HEATING VALUE 1 LOWER HEATING VALUE 2  \\\n",
       "0           193.406986          45657.459423          45700.301860   \n",
       "1           193.345791          45608.743144          45649.098929   \n",
       "2           192.986560          45572.619074          45612.402519   \n",
       "3           193.454552          45578.502964          45616.255091   \n",
       "4           193.056589          45598.746949          45631.582338   \n",
       "\n",
       "  Fuel Specific Gravity Selected Compressibility Factor Selected  \\\n",
       "0                       0.594959                        0.943591   \n",
       "1                       0.595003                        0.943467   \n",
       "2                       0.595048                        0.943500   \n",
       "3                       0.595168                        0.943538   \n",
       "4                       0.595501                        0.943576   \n",
       "\n",
       "  FUEL GAS SUPPLY PRESS. FUEL GAS SUPPLY TEMP. SELECTED  Curnt. Methane (C1)  \\\n",
       "0               4.360250                      58.322947            95.124280   \n",
       "1               4.360398                      58.372839            95.081885   \n",
       "2               4.360448                      57.630118            95.046427   \n",
       "3               4.360257                      58.098353            95.072193   \n",
       "4               4.360392                      57.926253            95.090598   \n",
       "\n",
       "   Curnt.  Ethane (C2)  Curnt. Propane (C3)  Curnt. i-Butane (iC4)  \\\n",
       "0             0.993676             0.109514               0.027650   \n",
       "1             1.016808             0.102702               0.025571   \n",
       "2             1.030336             0.104356               0.025849   \n",
       "3             1.003221             0.103988               0.025653   \n",
       "4             0.999284             0.114693               0.027928   \n",
       "\n",
       "   Curnt. n-Butene (nC4)  Curnt. i-Pentane (iC5)  Curnt. n-Pentane (nC5)  \\\n",
       "0               0.026884                0.003666                0.002890   \n",
       "1               0.024688                0.002276                0.001772   \n",
       "2               0.025095                0.002420                0.001761   \n",
       "3               0.025048                0.002473                0.001836   \n",
       "4               0.028202                0.002865                0.002018   \n",
       "\n",
       "   Curnt. Hexane Plus (C6+)  Curnt. Nitrogen (N2)  \\\n",
       "0                  0.009909              1.968795   \n",
       "1                  0.009802              1.969856   \n",
       "2                  0.004824              1.960737   \n",
       "3                  0.003524              1.974173   \n",
       "4                  0.002983              1.970817   \n",
       "\n",
       "   Curnt. Carbon Dioxide (CO2) HRSG INLET FUEL GAS PRESS.  \\\n",
       "0                     1.732711                   0.097487   \n",
       "1                     1.764604                   0.110897   \n",
       "2                     1.798180                   0.099417   \n",
       "3                     1.787917                   0.104294   \n",
       "4                     1.760651                   0.026045   \n",
       "\n",
       "  HRSG INLET GAS DUCT TEMP. #1 HRSG INLET GAS DUCT TEMP. #2  \\\n",
       "0                   488.504492                   486.230573   \n",
       "1                   488.856580                   486.545500   \n",
       "2                   488.327492                   486.011030   \n",
       "3                   488.179049                   485.829699   \n",
       "4                   488.224161                   485.939179   \n",
       "\n",
       "  HRSG OUTLET FUEL GAS PRESS. HRSG OUTLET GAS DUCT TEMP. #1  \\\n",
       "0                    0.041327                     89.307232   \n",
       "1                    0.029931                     89.151650   \n",
       "2                    0.018535                     89.075548   \n",
       "3                    0.007138                     89.280449   \n",
       "4                   -0.003747                     89.084875   \n",
       "\n",
       "  HRSG OUTLET GAS DUCT TEMP. #2 LP TURBINE INLET TEMP. (T48) A  \\\n",
       "0                    102.802245                     847.066968   \n",
       "1                    102.703886                     847.225598   \n",
       "2                    102.628714                     847.218651   \n",
       "3                    102.797421                     847.135828   \n",
       "4                    102.578282                     847.241493   \n",
       "\n",
       "  LP TURBINE INLET TEMP. (T48) B LP TURBINE INLET TEMP. (T48) C  \\\n",
       "0                     863.186131                     853.090418   \n",
       "1                     863.341621                     853.268686   \n",
       "2                     863.074201                     853.051051   \n",
       "3                     863.151972                     853.038120   \n",
       "4                     863.114046                     853.204758   \n",
       "\n",
       "  LP TURBINE INLET TEMP. (T48) D LP TURBINE INLET TEMP. (T48) E  \\\n",
       "0                     858.288423                     838.633159   \n",
       "1                     858.476324                     838.720686   \n",
       "2                     857.873665                     838.672786   \n",
       "3                     857.905328                     838.617167   \n",
       "4                     857.918985                     838.874133   \n",
       "\n",
       "  LP TURBINE INLET TEMP. (T48) F LP TURBINE INLET TEMP. (T48) G  \\\n",
       "0                     859.917953                     847.319691   \n",
       "1                     860.321558                     847.653442   \n",
       "2                     860.240772                     847.339965   \n",
       "3                     859.957468                     846.830988   \n",
       "4                     860.301252                     847.035949   \n",
       "\n",
       "  LP TURBINE INLET TEMP. (T48) H  \n",
       "0                     850.996004  \n",
       "1                     851.321655  \n",
       "2                     851.294517  \n",
       "3                     851.098920  \n",
       "4                     851.422351  "
      ],
      "text/html": "<div>\n<style scoped>\n    .dataframe tbody tr th:only-of-type {\n        vertical-align: middle;\n    }\n\n    .dataframe tbody tr th {\n        vertical-align: top;\n    }\n\n    .dataframe thead th {\n        text-align: right;\n    }\n</style>\n<table border=\"1\" class=\"dataframe\">\n  <thead>\n    <tr style=\"text-align: right;\">\n      <th></th>\n      <th>Date</th>\n      <th>Condition</th>\n      <th>GT Number</th>\n      <th>GT ACTIVE POWER</th>\n      <th>AMBIENT PRESSURE SELECTED VALUE 1</th>\n      <th>AMBIENT PRESSURE SELECTED VALUE 2</th>\n      <th>AMBIENT PRESSURE Point 1</th>\n      <th>AMBIENT PRESSURE Point 2</th>\n      <th>GT INLET SCREEN DIFF. PRESS.</th>\n      <th>GT INLET AIR DIFF. PRESS.</th>\n      <th>GT INLET FILTER HOUSE AIR TEMP. 1</th>\n      <th>GT INLET FILTER HOUSE AIR TEMP. 2</th>\n      <th>GT INLET FILTER HOUSE AIR HUMIDITY 1</th>\n      <th>GT INLET FILTER HOUSE AIR HUMIDITY 2</th>\n      <th>No.1 GT CHILLED WATER SUPPLY TEMP.</th>\n      <th>SPRINT WATER FLOW</th>\n      <th>LP SPRINT TOTAL WATER FLOW</th>\n      <th>LP SPRINT OPERATION HOUR</th>\n      <th>VIGV POSITION SELECTED</th>\n      <th>#1 VIGV POSITION</th>\n      <th>#2 VIGV POSITION</th>\n      <th>VBVBEL POSITION SELECTED</th>\n      <th>VSVSEL POSITION SELECTED</th>\n      <th>No.1 INLET AIR HEATER LEVEL CV POS. DEMAND</th>\n      <th>LP COMP. INLET TEMP. (T2) SELECTED</th>\n      <th>GT INLET TEMP. (T10) SELECTED</th>\n      <th>HP COMP. INLET TEMP. (T25) SELECTED</th>\n      <th>HP COMP. DISCH. TEMP. (T3) SELECTED</th>\n      <th>#1 HP COMP. INLET PRESS. (P25)</th>\n      <th>#2 HP COMP. INLET PRESS. (P25)</th>\n      <th>#1 HP COMP. DISCH. PRESS. (PS3)</th>\n      <th>#2 HP COMP. DISCH. PRESS. (PS3)</th>\n      <th>LP TURBINE INLET TEMP. (T48) SELECTED</th>\n      <th>DIFFERENACE OF T48MAX AND T48MIN</th>\n      <th>HP ROTOR SPEED (XN25) SELECTED</th>\n      <th>LP ROTOR SPEED (XNSD) SELECTED</th>\n      <th>Fuel Gas Volume Flow</th>\n      <th>LOWER HEATING VALUE 1</th>\n      <th>LOWER HEATING VALUE 2</th>\n      <th>Fuel Specific Gravity Selected</th>\n      <th>Compressibility Factor Selected</th>\n      <th>FUEL GAS SUPPLY PRESS.</th>\n      <th>FUEL GAS SUPPLY TEMP. SELECTED</th>\n      <th>Curnt. Methane (C1)</th>\n      <th>Curnt.  Ethane (C2)</th>\n      <th>Curnt. Propane (C3)</th>\n      <th>Curnt. i-Butane (iC4)</th>\n      <th>Curnt. n-Butene (nC4)</th>\n      <th>Curnt. i-Pentane (iC5)</th>\n      <th>Curnt. n-Pentane (nC5)</th>\n      <th>Curnt. Hexane Plus (C6+)</th>\n      <th>Curnt. Nitrogen (N2)</th>\n      <th>Curnt. Carbon Dioxide (CO2)</th>\n      <th>HRSG INLET FUEL GAS PRESS.</th>\n      <th>HRSG INLET GAS DUCT TEMP. #1</th>\n      <th>HRSG INLET GAS DUCT TEMP. #2</th>\n      <th>HRSG OUTLET FUEL GAS PRESS.</th>\n      <th>HRSG OUTLET GAS DUCT TEMP. #1</th>\n      <th>HRSG OUTLET GAS DUCT TEMP. #2</th>\n      <th>LP TURBINE INLET TEMP. (T48) A</th>\n      <th>LP TURBINE INLET TEMP. (T48) B</th>\n      <th>LP TURBINE INLET TEMP. (T48) C</th>\n      <th>LP TURBINE INLET TEMP. (T48) D</th>\n      <th>LP TURBINE INLET TEMP. (T48) E</th>\n      <th>LP TURBINE INLET TEMP. (T48) F</th>\n      <th>LP TURBINE INLET TEMP. (T48) G</th>\n      <th>LP TURBINE INLET TEMP. (T48) H</th>\n    </tr>\n  </thead>\n  <tbody>\n    <tr>\n      <th>0</th>\n      <td>2019-01-01 00:00:00</td>\n      <td>Normal</td>\n      <td>1</td>\n      <td>24.961611</td>\n      <td>14.445444</td>\n      <td>14.466763</td>\n      <td>1002.279208</td>\n      <td>1002.764703</td>\n      <td>0.579197</td>\n      <td>-0.876408</td>\n      <td>24.942641</td>\n      <td>24.955787</td>\n      <td>58.258275</td>\n      <td>59.779050</td>\n      <td>44.426224</td>\n      <td>0.005570</td>\n      <td>98132.634463</td>\n      <td>465.728370</td>\n      <td>28.269185</td>\n      <td>28.804726</td>\n      <td>27.735972</td>\n      <td>13.471984</td>\n      <td>72.954904</td>\n      <td>72.223297</td>\n      <td>40.599394</td>\n      <td>41.138421</td>\n      <td>121.961115</td>\n      <td>530.589712</td>\n      <td>201.459786</td>\n      <td>201.734075</td>\n      <td>2061.697022</td>\n      <td>2064.664860</td>\n      <td>852.376481</td>\n      <td>24.547630</td>\n      <td>10089.833398</td>\n      <td>3629.223758</td>\n      <td>193.406986</td>\n      <td>45657.459423</td>\n      <td>45700.301860</td>\n      <td>0.594959</td>\n      <td>0.943591</td>\n      <td>4.360250</td>\n      <td>58.322947</td>\n      <td>95.124280</td>\n      <td>0.993676</td>\n      <td>0.109514</td>\n      <td>0.027650</td>\n      <td>0.026884</td>\n      <td>0.003666</td>\n      <td>0.002890</td>\n      <td>0.009909</td>\n      <td>1.968795</td>\n      <td>1.732711</td>\n      <td>0.097487</td>\n      <td>488.504492</td>\n      <td>486.230573</td>\n      <td>0.041327</td>\n      <td>89.307232</td>\n      <td>102.802245</td>\n      <td>847.066968</td>\n      <td>863.186131</td>\n      <td>853.090418</td>\n      <td>858.288423</td>\n      <td>838.633159</td>\n      <td>859.917953</td>\n      <td>847.319691</td>\n      <td>850.996004</td>\n    </tr>\n    <tr>\n      <th>1</th>\n      <td>2019-01-01 01:00:00</td>\n      <td>Normal</td>\n      <td>1</td>\n      <td>24.955444</td>\n      <td>14.449742</td>\n      <td>14.466154</td>\n      <td>1002.073566</td>\n      <td>1002.430513</td>\n      <td>0.577017</td>\n      <td>-0.874152</td>\n      <td>24.495615</td>\n      <td>24.543611</td>\n      <td>58.275939</td>\n      <td>60.006663</td>\n      <td>44.912449</td>\n      <td>0.005458</td>\n      <td>98132.645325</td>\n      <td>465.729958</td>\n      <td>28.258613</td>\n      <td>28.784903</td>\n      <td>27.733255</td>\n      <td>13.214311</td>\n      <td>72.702084</td>\n      <td>69.044871</td>\n      <td>40.933119</td>\n      <td>41.474002</td>\n      <td>122.625872</td>\n      <td>531.528906</td>\n      <td>201.763867</td>\n      <td>202.032457</td>\n      <td>2062.207612</td>\n      <td>2064.943401</td>\n      <td>852.605385</td>\n      <td>24.563439</td>\n      <td>10089.025464</td>\n      <td>3629.442142</td>\n      <td>193.345791</td>\n      <td>45608.743144</td>\n      <td>45649.098929</td>\n      <td>0.595003</td>\n      <td>0.943467</td>\n      <td>4.360398</td>\n      <td>58.372839</td>\n      <td>95.081885</td>\n      <td>1.016808</td>\n      <td>0.102702</td>\n      <td>0.025571</td>\n      <td>0.024688</td>\n      <td>0.002276</td>\n      <td>0.001772</td>\n      <td>0.009802</td>\n      <td>1.969856</td>\n      <td>1.764604</td>\n      <td>0.110897</td>\n      <td>488.856580</td>\n      <td>486.545500</td>\n      <td>0.029931</td>\n      <td>89.151650</td>\n      <td>102.703886</td>\n      <td>847.225598</td>\n      <td>863.341621</td>\n      <td>853.268686</td>\n      <td>858.476324</td>\n      <td>838.720686</td>\n      <td>860.321558</td>\n      <td>847.653442</td>\n      <td>851.321655</td>\n    </tr>\n    <tr>\n      <th>2</th>\n      <td>2019-01-01 02:00:00</td>\n      <td>Normal</td>\n      <td>1</td>\n      <td>25.000464</td>\n      <td>14.452401</td>\n      <td>14.465545</td>\n      <td>1001.667664</td>\n      <td>1002.095941</td>\n      <td>0.576373</td>\n      <td>-0.874066</td>\n      <td>23.527854</td>\n      <td>23.712178</td>\n      <td>60.139831</td>\n      <td>61.588245</td>\n      <td>44.869438</td>\n      <td>0.005346</td>\n      <td>98132.656186</td>\n      <td>465.731547</td>\n      <td>28.235135</td>\n      <td>28.751349</td>\n      <td>27.717824</td>\n      <td>13.006690</td>\n      <td>72.625770</td>\n      <td>70.603622</td>\n      <td>40.795232</td>\n      <td>41.373230</td>\n      <td>122.755831</td>\n      <td>531.591234</td>\n      <td>202.296723</td>\n      <td>202.565203</td>\n      <td>2064.342381</td>\n      <td>2067.248927</td>\n      <td>852.410639</td>\n      <td>24.377013</td>\n      <td>10087.886271</td>\n      <td>3630.881414</td>\n      <td>192.986560</td>\n      <td>45572.619074</td>\n      <td>45612.402519</td>\n      <td>0.595048</td>\n      <td>0.943500</td>\n      <td>4.360448</td>\n      <td>57.630118</td>\n      <td>95.046427</td>\n      <td>1.030336</td>\n      <td>0.104356</td>\n      <td>0.025849</td>\n      <td>0.025095</td>\n      <td>0.002420</td>\n      <td>0.001761</td>\n      <td>0.004824</td>\n      <td>1.960737</td>\n      <td>1.798180</td>\n      <td>0.099417</td>\n      <td>488.327492</td>\n      <td>486.011030</td>\n      <td>0.018535</td>\n      <td>89.075548</td>\n      <td>102.628714</td>\n      <td>847.218651</td>\n      <td>863.074201</td>\n      <td>853.051051</td>\n      <td>857.873665</td>\n      <td>838.672786</td>\n      <td>860.240772</td>\n      <td>847.339965</td>\n      <td>851.294517</td>\n    </tr>\n    <tr>\n      <th>3</th>\n      <td>2019-01-01 03:00:00</td>\n      <td>Normal</td>\n      <td>1</td>\n      <td>24.991005</td>\n      <td>14.455040</td>\n      <td>14.464936</td>\n      <td>1001.346888</td>\n      <td>1001.791034</td>\n      <td>0.577296</td>\n      <td>-0.875245</td>\n      <td>23.437874</td>\n      <td>23.408884</td>\n      <td>61.759290</td>\n      <td>63.575023</td>\n      <td>44.769728</td>\n      <td>0.005234</td>\n      <td>98132.667047</td>\n      <td>465.733136</td>\n      <td>28.271122</td>\n      <td>28.787484</td>\n      <td>27.746527</td>\n      <td>13.205728</td>\n      <td>72.627522</td>\n      <td>66.960869</td>\n      <td>40.646761</td>\n      <td>41.177816</td>\n      <td>122.578655</td>\n      <td>531.221143</td>\n      <td>202.214404</td>\n      <td>202.485291</td>\n      <td>2064.332157</td>\n      <td>2067.008883</td>\n      <td>852.278768</td>\n      <td>24.583750</td>\n      <td>10085.513636</td>\n      <td>3632.125342</td>\n      <td>193.454552</td>\n      <td>45578.502964</td>\n      <td>45616.255091</td>\n      <td>0.595168</td>\n      <td>0.943538</td>\n      <td>4.360257</td>\n      <td>58.098353</td>\n      <td>95.072193</td>\n      <td>1.003221</td>\n      <td>0.103988</td>\n      <td>0.025653</td>\n      <td>0.025048</td>\n      <td>0.002473</td>\n      <td>0.001836</td>\n      <td>0.003524</td>\n      <td>1.974173</td>\n      <td>1.787917</td>\n      <td>0.104294</td>\n      <td>488.179049</td>\n      <td>485.829699</td>\n      <td>0.007138</td>\n      <td>89.280449</td>\n      <td>102.797421</td>\n      <td>847.135828</td>\n      <td>863.151972</td>\n      <td>853.038120</td>\n      <td>857.905328</td>\n      <td>838.617167</td>\n      <td>859.957468</td>\n      <td>846.830988</td>\n      <td>851.098920</td>\n    </tr>\n    <tr>\n      <th>4</th>\n      <td>2019-01-01 04:00:00</td>\n      <td>Normal</td>\n      <td>1</td>\n      <td>24.997137</td>\n      <td>14.457680</td>\n      <td>14.464328</td>\n      <td>1001.380376</td>\n      <td>1001.838734</td>\n      <td>0.575811</td>\n      <td>-0.873603</td>\n      <td>23.488287</td>\n      <td>23.156522</td>\n      <td>59.996988</td>\n      <td>62.821445</td>\n      <td>45.163687</td>\n      <td>0.005016</td>\n      <td>98132.677294</td>\n      <td>465.734635</td>\n      <td>28.257159</td>\n      <td>28.772606</td>\n      <td>27.744851</td>\n      <td>13.041475</td>\n      <td>72.401568</td>\n      <td>66.266544</td>\n      <td>40.977436</td>\n      <td>41.500466</td>\n      <td>123.142678</td>\n      <td>532.210247</td>\n      <td>202.454875</td>\n      <td>202.718491</td>\n      <td>2064.448622</td>\n      <td>2067.297641</td>\n      <td>852.446505</td>\n      <td>24.337068</td>\n      <td>10084.308876</td>\n      <td>3631.749749</td>\n      <td>193.056589</td>\n      <td>45598.746949</td>\n      <td>45631.582338</td>\n      <td>0.595501</td>\n      <td>0.943576</td>\n      <td>4.360392</td>\n      <td>57.926253</td>\n      <td>95.090598</td>\n      <td>0.999284</td>\n      <td>0.114693</td>\n      <td>0.027928</td>\n      <td>0.028202</td>\n      <td>0.002865</td>\n      <td>0.002018</td>\n      <td>0.002983</td>\n      <td>1.970817</td>\n      <td>1.760651</td>\n      <td>0.026045</td>\n      <td>488.224161</td>\n      <td>485.939179</td>\n      <td>-0.003747</td>\n      <td>89.084875</td>\n      <td>102.578282</td>\n      <td>847.241493</td>\n      <td>863.114046</td>\n      <td>853.204758</td>\n      <td>857.918985</td>\n      <td>838.874133</td>\n      <td>860.301252</td>\n      <td>847.035949</td>\n      <td>851.422351</td>\n    </tr>\n  </tbody>\n</table>\n</div>"
     },
     "metadata": {},
     "execution_count": 2
    }
   ],
   "source": [
    "import pickle\n",
    "\n",
    "data_filename = 'GSPP11_data_merge'\n",
    "\n",
    "try:\n",
    "    df = pickle.load(open(data_filename + '.pickle', 'rb'))\n",
    "except (OSError, IOError) as e:\n",
    "    df = pd.read_excel(data_filename + '.xlsx')\n",
    "    pickle.dump(df, open(data_filename + '.pickle', 'wb'))\n",
    "\n",
    "df.head()"
   ]
  },
  {
   "source": [
    "## Prepare dataset"
   ],
   "cell_type": "markdown",
   "metadata": {}
  },
  {
   "cell_type": "code",
   "execution_count": 3,
   "metadata": {},
   "outputs": [
    {
     "output_type": "stream",
     "name": "stdout",
     "text": [
      "<class 'pandas.core.frame.DataFrame'>\nRangeIndex: 29232 entries, 0 to 29231\nData columns (total 67 columns):\n #   Column                                      Non-Null Count  Dtype         \n---  ------                                      --------------  -----         \n 0   Date                                        29232 non-null  datetime64[ns]\n 1   Condition                                   29232 non-null  int64         \n 2   GT Number                                   29232 non-null  int64         \n 3   GT ACTIVE POWER                             29232 non-null  float64       \n 4   AMBIENT PRESSURE SELECTED VALUE 1           29232 non-null  float64       \n 5   AMBIENT PRESSURE SELECTED VALUE 2           29232 non-null  float64       \n 6   AMBIENT PRESSURE Point 1                    29232 non-null  float64       \n 7   AMBIENT PRESSURE Point 2                    29232 non-null  float64       \n 8   GT INLET SCREEN DIFF. PRESS.                29232 non-null  float64       \n 9   GT INLET AIR DIFF. PRESS.                   29232 non-null  float64       \n 10  GT INLET FILTER HOUSE AIR TEMP. 1           29232 non-null  float64       \n 11  GT INLET FILTER HOUSE AIR TEMP. 2           29232 non-null  float64       \n 12  GT INLET FILTER HOUSE AIR HUMIDITY 1        29232 non-null  float64       \n 13  GT INLET FILTER HOUSE AIR HUMIDITY 2        29232 non-null  float64       \n 14  No.1 GT CHILLED WATER SUPPLY TEMP.          29232 non-null  float64       \n 15  SPRINT WATER FLOW                           29232 non-null  float64       \n 16  LP SPRINT TOTAL WATER FLOW                  29232 non-null  float64       \n 17  LP SPRINT OPERATION HOUR                    29232 non-null  float64       \n 18  VIGV POSITION SELECTED                      29232 non-null  float64       \n 19  #1 VIGV POSITION                            29232 non-null  float64       \n 20  #2 VIGV POSITION                            29232 non-null  float64       \n 21  VBVBEL POSITION SELECTED                    29232 non-null  float64       \n 22  VSVSEL POSITION SELECTED                    29232 non-null  float64       \n 23  No.1 INLET AIR HEATER LEVEL CV POS. DEMAND  29232 non-null  float64       \n 24  LP COMP. INLET TEMP. (T2) SELECTED          29232 non-null  float64       \n 25  GT INLET TEMP. (T10) SELECTED               29232 non-null  float64       \n 26  HP COMP. INLET TEMP. (T25) SELECTED         29232 non-null  float64       \n 27  HP COMP. DISCH. TEMP. (T3) SELECTED         29232 non-null  float64       \n 28  #1 HP COMP. INLET PRESS. (P25)              29232 non-null  float64       \n 29  #2 HP COMP. INLET PRESS. (P25)              29232 non-null  float64       \n 30  #1 HP COMP. DISCH. PRESS. (PS3)             29232 non-null  float64       \n 31  #2 HP COMP. DISCH. PRESS. (PS3)             29232 non-null  float64       \n 32  LP TURBINE INLET TEMP. (T48) SELECTED       29232 non-null  float64       \n 33  DIFFERENACE OF T48MAX AND T48MIN            29232 non-null  float64       \n 34  HP ROTOR SPEED (XN25) SELECTED              29232 non-null  float64       \n 35  LP ROTOR SPEED (XNSD) SELECTED              29232 non-null  float64       \n 36  Fuel Gas Volume Flow                        29232 non-null  float64       \n 37  LOWER HEATING VALUE 1                       29232 non-null  float64       \n 38  LOWER HEATING VALUE 2                       29232 non-null  float64       \n 39  Fuel Specific Gravity Selected              29232 non-null  float64       \n 40  Compressibility Factor Selected             29232 non-null  float64       \n 41  FUEL GAS SUPPLY PRESS.                      29232 non-null  float64       \n 42  FUEL GAS SUPPLY TEMP. SELECTED              29232 non-null  float64       \n 43  Curnt. Methane (C1)                         29232 non-null  float64       \n 44  Curnt.  Ethane (C2)                         29232 non-null  float64       \n 45  Curnt. Propane (C3)                         29232 non-null  float64       \n 46  Curnt. i-Butane (iC4)                       29232 non-null  float64       \n 47  Curnt. n-Butene (nC4)                       29232 non-null  float64       \n 48  Curnt. i-Pentane (iC5)                      29232 non-null  float64       \n 49  Curnt. n-Pentane (nC5)                      29232 non-null  float64       \n 50  Curnt. Hexane Plus (C6+)                    29232 non-null  float64       \n 51  Curnt. Nitrogen (N2)                        29232 non-null  float64       \n 52  Curnt. Carbon Dioxide (CO2)                 29232 non-null  float64       \n 53  HRSG INLET FUEL GAS PRESS.                  29232 non-null  float64       \n 54  HRSG INLET GAS DUCT TEMP. #1                29232 non-null  float64       \n 55  HRSG INLET GAS DUCT TEMP. #2                29232 non-null  float64       \n 56  HRSG OUTLET FUEL GAS PRESS.                 29232 non-null  float64       \n 57  HRSG OUTLET GAS DUCT TEMP. #1               29232 non-null  float64       \n 58  HRSG OUTLET GAS DUCT TEMP. #2               29232 non-null  float64       \n 59  LP TURBINE INLET TEMP. (T48) A              29232 non-null  float64       \n 60  LP TURBINE INLET TEMP. (T48) B              29232 non-null  float64       \n 61  LP TURBINE INLET TEMP. (T48) C              29232 non-null  float64       \n 62  LP TURBINE INLET TEMP. (T48) D              29232 non-null  float64       \n 63  LP TURBINE INLET TEMP. (T48) E              29232 non-null  float64       \n 64  LP TURBINE INLET TEMP. (T48) F              29232 non-null  float64       \n 65  LP TURBINE INLET TEMP. (T48) G              29232 non-null  float64       \n 66  LP TURBINE INLET TEMP. (T48) H              29232 non-null  float64       \ndtypes: datetime64[ns](1), float64(64), int64(2)\nmemory usage: 14.9 MB\n"
     ]
    }
   ],
   "source": [
    "df['Condition'] = [0 if val == 'Normal' else 1 for val in df['Condition']]\n",
    "df.iloc[:, 3:] = df.iloc[:, 3:].apply(pd.to_numeric, errors='coerce')\n",
    "\n",
    "# Fill all NaN with value = 0\n",
    "nan_df = df[df.isnull().any(axis=1)]\n",
    "df.iloc[:, 3:] = df.iloc[:, 3:].fillna(0)\n",
    "\n",
    "df.info()"
   ]
  },
  {
   "cell_type": "code",
   "execution_count": 4,
   "metadata": {},
   "outputs": [
    {
     "output_type": "stream",
     "name": "stdout",
     "text": [
      "List of 320 NaN rows in df: [5052, 5053, 5054, 5055, 5339, 6563, 6564, 6565, 6566, 10596, 11770, 14601, 14602, 14603, 14604, 14605, 14606, 14607, 14608, 14609, 14610, 14611, 14612, 14613, 14614, 14615, 19668, 19669, 19670, 19671, 25114, 25115, 25116, 25117, 25118, 25119, 25120, 25121, 25122, 25123, 25124, 25125, 25126, 25127, 25128, 25129, 25130, 25131, 25132, 25133, 25134, 25135, 25136, 25137, 25138, 25139, 25140, 25141, 25142, 25143, 25144, 25145, 25146, 25147, 25148, 25149, 25150, 25151, 25152, 25153, 25154, 25155, 25156, 25157, 25158, 25159, 25160, 25161, 25162, 25163, 25164, 25165, 25166, 25167, 25168, 25169, 25170, 25171, 25172, 25173, 25174, 25175, 25176, 25177, 25178, 25179, 25180, 25181, 25182, 25183, 25184, 25185, 25186, 25187, 25188, 25189, 25190, 25191, 25192, 25193, 25194, 25195, 25196, 25197, 25198, 25199, 25200, 25201, 25202, 25203, 25204, 25205, 25206, 25207, 25208, 25209, 25210, 25211, 25212, 25213, 25214, 25215, 25216, 25217, 25218, 25219, 25220, 25221, 25222, 25223, 25224, 25225, 25226, 25227, 25228, 25229, 25230, 25231, 25232, 25233, 25234, 25235, 25236, 25237, 25238, 25239, 25240, 25241, 25242, 25243, 25244, 25245, 25246, 25247, 25248, 25249, 25250, 25251, 25252, 25253, 25254, 25255, 25256, 25257, 25258, 25259, 25260, 25261, 25262, 25263, 25264, 25265, 25266, 25267, 25268, 25269, 25270, 25271, 25272, 25273, 25274, 25275, 25276, 25277, 25278, 25279, 25280, 25281, 25282, 25283, 25284, 25285, 25286, 25287, 25288, 25289, 25290, 25291, 25292, 25293, 25294, 25295, 25296, 25297, 25298, 25299, 25300, 25301, 25302, 25303, 25304, 25305, 25306, 25307, 25308, 25309, 25310, 25311, 25312, 25313, 25314, 25315, 25316, 25317, 25318, 25319, 25320, 25321, 25322, 25323, 25324, 25325, 25326, 25327, 25328, 25329, 25330, 25331, 25332, 25333, 25334, 25335, 25336, 25337, 25338, 25339, 25340, 25341, 25342, 25343, 25344, 25345, 25346, 25347, 25348, 25349, 25350, 25351, 25352, 25353, 25354, 25355, 25356, 25357, 25358, 25359, 25360, 25361, 25362, 25363, 25364, 25365, 25366, 25367, 25368, 25369, 25370, 25371, 25372, 25373, 25374, 25375, 25376, 25377, 25378, 28660, 28910, 28911, 28912, 28913, 28914, 28915, 28916, 28917, 28918, 28919, 28920, 28921, 28922, 28923, 28924, 28925, 28926, 28927, 28928, 28929, 28930, 28931, 28932, 28933]\n"
     ]
    }
   ],
   "source": [
    "print('List of {:d} NaN rows in df:'.format(len(nan_df)), list(nan_df.index))"
   ]
  },
  {
   "cell_type": "code",
   "execution_count": null,
   "metadata": {},
   "outputs": [],
   "source": []
  },
  {
   "cell_type": "code",
   "execution_count": null,
   "metadata": {},
   "outputs": [],
   "source": []
  },
  {
   "cell_type": "code",
   "execution_count": null,
   "metadata": {},
   "outputs": [],
   "source": []
  },
  {
   "cell_type": "code",
   "execution_count": null,
   "metadata": {},
   "outputs": [],
   "source": []
  },
  {
   "cell_type": "code",
   "execution_count": null,
   "metadata": {},
   "outputs": [],
   "source": []
  },
  {
   "cell_type": "code",
   "execution_count": null,
   "metadata": {},
   "outputs": [],
   "source": []
  },
  {
   "cell_type": "code",
   "execution_count": 5,
   "metadata": {},
   "outputs": [],
   "source": [
    "# Scaling value of features in range of (0,1)\n",
    "\n",
    "from sklearn.preprocessing import MinMaxScaler\n",
    "\n",
    "features = df.iloc[:, 3:]\n",
    "scaler = MinMaxScaler((0, 1)).fit(features)\n",
    "\n",
    "scaled_df = df\n",
    "scaled_df.iloc[:, 3:] = scaler.transform(scaled_df.iloc[:, 3:])"
   ]
  },
  {
   "cell_type": "code",
   "execution_count": 6,
   "metadata": {},
   "outputs": [
    {
     "output_type": "stream",
     "name": "stdout",
     "text": [
      "Total samples: 29,232\nNormal samples: 23,517, Abnormal samples: 5,715\n\nNormal samples split for train/val/test in ratio of 23,385/4,677/1,170 samples (80.0/16.0/4.0%)\n\nMerging normal test samples with abnormal samples for test, total test samples: 1,170+5,715 = 6,885 samples\n"
     ]
    }
   ],
   "source": [
    "# Split data\n",
    "from sklearn.model_selection import train_test_split\n",
    "\n",
    "norm_df = scaled_df[scaled_df['Condition'] == 0]\n",
    "train_df, val_df = train_test_split(scaled_df, test_size=0.2, random_state=42)\n",
    "val_df, norm_test_df = train_test_split(val_df, test_size=0.2, random_state=42)\n",
    "\n",
    "print('Total samples: {:,d}'.format(len(scaled_df)))\n",
    "print('Normal samples: {:,d}, Abnormal samples: {:,d}'.format(len(norm_df), len(scaled_df)-len(norm_df)))\n",
    "print()\n",
    "\n",
    "print('Normal samples split for train/val/test in ratio of {:,d}/{:,d}/{:,d} samples ({:.1f}/{:.1f}/{:.1f}%)'.format(\n",
    "    len(train_df), len(val_df), len(norm_test_df), 100*len(train_df)/len(scaled_df), 100*len(val_df)/len(scaled_df), 100*len(norm_test_df)/len(scaled_df)))\n",
    "print()\n",
    "\n",
    "abnorm_df = scaled_df[scaled_df['Condition'] == 1]\n",
    "test_df = norm_test_df.append(abnorm_df)\n",
    "print('Merging normal test samples with abnormal samples for test, total test samples: {:,d}+{:,d} = {:,d} samples'.format(len(norm_test_df), len(abnorm_df), len(test_df)))"
   ]
  },
  {
   "cell_type": "code",
   "execution_count": 7,
   "metadata": {
    "tags": []
   },
   "outputs": [],
   "source": [
    "train_data = train_df.drop(columns=['Date', 'Condition', 'GT Number']).to_numpy()\n",
    "val_data = val_df.drop(columns=['Date', 'Condition', 'GT Number']).to_numpy()\n",
    "test_data = test_df.drop(columns=['Date', 'Condition', 'GT Number']).to_numpy()\n",
    "\n",
    "batch_size = 32\n",
    "train_ds = tf.data.Dataset.from_tensor_slices((train_data, train_data)).batch(batch_size)\n",
    "val_ds = tf.data.Dataset.from_tensor_slices((val_data, val_data)).batch(batch_size)\n",
    "test_ds = tf.data.Dataset.from_tensor_slices((test_data, test_data)).batch(batch_size)\n",
    "\n",
    "buffer_size = 32\n",
    "train_ds = train_ds.prefetch(buffer_size=buffer_size)\n",
    "val_ds = val_ds.prefetch(buffer_size=buffer_size)\n",
    "test_ds = test_ds.prefetch(buffer_size=buffer_size)"
   ]
  },
  {
   "source": [
    "## Build a model"
   ],
   "cell_type": "markdown",
   "metadata": {}
  },
  {
   "cell_type": "code",
   "execution_count": 8,
   "metadata": {},
   "outputs": [
    {
     "output_type": "execute_result",
     "data": {
      "image/png": "[encoded data removed]",
      "text/plain": [
       "<IPython.core.display.Image object>"
      ]
     },
     "metadata": {},
     "execution_count": 8
    }
   ],
   "source": [
    "# Model name\n",
    "model_name = 'model_2'\n",
    "\n",
    "def make_model(features_number):\n",
    "\n",
    "    # Encoder\n",
    "    inputs = layers.Input(shape=(features_number, ))\n",
    "    x = layers.Dense(64, activation='relu')(inputs)\n",
    "    # x = layers.Dropout(rate=0.2)(x)\n",
    "    # x = layers.Dense(32, activation='relu')(x)\n",
    "    x = layers.Dense(8, activation='relu')(x)\n",
    "\n",
    "    # Decoder\n",
    "    x = layers.Dense(8, activation='relu')(x)\n",
    "    # x = layers.Dropout(rate=0.2)(x)\n",
    "    # x = layers.Dense(32, activation='relu')(x)\n",
    "    x = layers.Dense(64, activation='relu')(x)\n",
    "    outputs = layers.Dense(features_number)(x)\n",
    "\n",
    "    return keras.Model(inputs, outputs, name='autoencoder')\n",
    "\n",
    "model = make_model(features_number=len(features.columns))\n",
    "keras.utils.plot_model(model, to_file=model_name + '.png', show_shapes=True)\n",
    "# model.summary()"
   ]
  },
  {
   "source": [
    "## Train the model"
   ],
   "cell_type": "markdown",
   "metadata": {}
  },
  {
   "cell_type": "code",
   "execution_count": 52,
   "metadata": {
    "tags": []
   },
   "outputs": [
    {
     "output_type": "execute_result",
     "data": {
      "text/plain": [
       "<tensorflow.python.keras.callbacks.History at 0x1ec27ed6670>"
      ]
     },
     "metadata": {},
     "execution_count": 52
    }
   ],
   "source": [
    "import datetime\n",
    "\n",
    "model.compile(\n",
    "    optimizer=keras.optimizers.Adam(),\n",
    "    loss='mse',\n",
    "    metrics=['accuracy'],\n",
    ")\n",
    "\n",
    "# Tensorboard\n",
    "tb = keras.callbacks.TensorBoard(\n",
    "    log_dir='logs/' + datetime.datetime.now().strftime('%Y%m%d-%H%M%S')\n",
    ")\n",
    "\n",
    "# Checkpoint\n",
    "cp = keras.callbacks.ModelCheckpoint(\n",
    "    filepath=model_name + '/' + model_name + '-{epoch:05d}.h5',\n",
    "    verbose=0,\n",
    "    save_weights_only=True,\n",
    "    save_freq=7310,\n",
    ")\n",
    "try:\n",
    "    saved_model_name = 'model_1-02130'\n",
    "    model.load_weights(model_name + '/' + saved_model_name + '.h5')\n",
    "    initial_epoch = int(saved_model_name.split('-')[1])\n",
    "except (OSError, IOError) as e:\n",
    "    initial_epoch = 0\n",
    "\n",
    "model.fit(train_ds, epochs=1, initial_epoch=initial_epoch, validation_data=val_ds, verbose=1, callbacks=[tb, cp])"
   ]
  },
  {
   "cell_type": "code",
   "execution_count": 47,
   "metadata": {},
   "outputs": [
    {
     "output_type": "stream",
     "name": "stdout",
     "text": [
      "731/731 [==============================] - 1s 2ms/step - loss: 5.7018e-04 - accuracy: 0.5869\n",
      "0.0005701775662600994\n",
      "147/147 [==============================] - 0s 2ms/step - loss: 6.1038e-04 - accuracy: 0.5848\n",
      "0.000610382470767945\n",
      "216/216 [==============================] - 0s 2ms/step - loss: 7.2134e-04 - accuracy: 0.5615\n",
      "0.0007213361095637083\n"
     ]
    }
   ],
   "source": [
    "for ds in [train_ds, val_ds, test_ds]:\n",
    "    print(model.evaluate(ds)[0])"
   ]
  },
  {
   "cell_type": "code",
   "execution_count": 48,
   "metadata": {},
   "outputs": [
    {
     "output_type": "display_data",
     "data": {
      "text/plain": "<Figure size 432x288 with 1 Axes>",
      "image/svg+xml": "<?xml version=\"1.0\" encoding=\"utf-8\" standalone=\"no\"?>\r\n<!DOCTYPE svg PUBLIC \"-//W3C//DTD SVG 1.1//EN\"\r\n  \"http://www.w3.org/Graphics/SVG/1.1/DTD/svg11.dtd\">\r\n<!-- Created with matplotlib (https://matplotlib.org/) -->\r\n<svg height=\"262.19625pt\" version=\"1.1\" viewBox=\"0 0 388.965625 262.19625\" width=\"388.965625pt\" xmlns=\"http://www.w3.org/2000/svg\" xmlns:xlink=\"http://www.w3.org/1999/xlink\">\r\n <metadata>\r\n  <rdf:RDF xmlns:cc=\"http://creativecommons.org/ns#\" xmlns:dc=\"http://purl.org/dc/elements/1.1/\" xmlns:rdf=\"http://www.w3.org/1999/02/22-rdf-syntax-ns#\">\r\n   <cc:Work>\r\n    <dc:type rdf:resource=\"http://purl.org/dc/dcmitype/StillImage\"/>\r\n    <dc:date>2021-01-08T20:06:49.542698</dc:date>\r\n    <dc:format>image/svg+xml</dc:format>\r\n    <dc:creator>\r\n     <cc:Agent>\r\n      <dc:title>Matplotlib v3.3.3, https://matplotlib.org/</dc:title>\r\n     </cc:Agent>\r\n    </dc:creator>\r\n   </cc:Work>\r\n  </rdf:RDF>\r\n </metadata>\r\n <defs>\r\n  <style type=\"text/css\">*{stroke-linecap:butt;stroke-linejoin:round;}</style>\r\n </defs>\r\n <g id=\"figure_1\">\r\n  <g id=\"patch_1\">\r\n   <path d=\"M 0 262.19625 \r\nL 388.965625 262.19625 \r\nL 388.965625 0 \r\nL 0 0 \r\nz\r\n\" style=\"fill:none;\"/>\r\n  </g>\r\n  <g id=\"axes_1\">\r\n   <g id=\"patch_2\">\r\n    <path d=\"M 46.965625 224.64 \r\nL 381.765625 224.64 \r\nL 381.765625 7.2 \r\nL 46.965625 7.2 \r\nz\r\n\" style=\"fill:#ffffff;\"/>\r\n   </g>\r\n   <g id=\"matplotlib.axis_1\">\r\n    <g id=\"xtick_1\">\r\n     <g id=\"line2d_1\">\r\n      <defs>\r\n       <path d=\"M 0 0 \r\nL 0 3.5 \r\n\" id=\"m9cf3b6a830\" style=\"stroke:#000000;stroke-width:0.8;\"/>\r\n      </defs>\r\n      <g>\r\n       <use style=\"stroke:#000000;stroke-width:0.8;\" x=\"46.965625\" xlink:href=\"#m9cf3b6a830\" y=\"224.64\"/>\r\n      </g>\r\n     </g>\r\n     <g id=\"text_1\">\r\n      <!-- 0.00 -->\r\n      <g transform=\"translate(35.832813 239.238438)scale(0.1 -0.1)\">\r\n       <defs>\r\n        <path d=\"M 31.78125 66.40625 \r\nQ 24.171875 66.40625 20.328125 58.90625 \r\nQ 16.5 51.421875 16.5 36.375 \r\nQ 16.5 21.390625 20.328125 13.890625 \r\nQ 24.171875 6.390625 31.78125 6.390625 \r\nQ 39.453125 6.390625 43.28125 13.890625 \r\nQ 47.125 21.390625 47.125 36.375 \r\nQ 47.125 51.421875 43.28125 58.90625 \r\nQ 39.453125 66.40625 31.78125 66.40625 \r\nz\r\nM 31.78125 74.21875 \r\nQ 44.046875 74.21875 50.515625 64.515625 \r\nQ 56.984375 54.828125 56.984375 36.375 \r\nQ 56.984375 17.96875 50.515625 8.265625 \r\nQ 44.046875 -1.421875 31.78125 -1.421875 \r\nQ 19.53125 -1.421875 13.0625 8.265625 \r\nQ 6.59375 17.96875 6.59375 36.375 \r\nQ 6.59375 54.828125 13.0625 64.515625 \r\nQ 19.53125 74.21875 31.78125 74.21875 \r\nz\r\n\" id=\"DejaVuSans-48\"/>\r\n        <path d=\"M 10.6875 12.40625 \r\nL 21 12.40625 \r\nL 21 0 \r\nL 10.6875 0 \r\nz\r\n\" id=\"DejaVuSans-46\"/>\r\n       </defs>\r\n       <use xlink:href=\"#DejaVuSans-48\"/>\r\n       <use x=\"63.623047\" xlink:href=\"#DejaVuSans-46\"/>\r\n       <use x=\"95.410156\" xlink:href=\"#DejaVuSans-48\"/>\r\n       <use x=\"159.033203\" xlink:href=\"#DejaVuSans-48\"/>\r\n      </g>\r\n     </g>\r\n    </g>\r\n    <g id=\"xtick_2\">\r\n     <g id=\"line2d_2\">\r\n      <g>\r\n       <use style=\"stroke:#000000;stroke-width:0.8;\" x=\"100.533625\" xlink:href=\"#m9cf3b6a830\" y=\"224.64\"/>\r\n      </g>\r\n     </g>\r\n     <g id=\"text_2\">\r\n      <!-- 0.02 -->\r\n      <g transform=\"translate(89.400813 239.238438)scale(0.1 -0.1)\">\r\n       <defs>\r\n        <path d=\"M 19.1875 8.296875 \r\nL 53.609375 8.296875 \r\nL 53.609375 0 \r\nL 7.328125 0 \r\nL 7.328125 8.296875 \r\nQ 12.9375 14.109375 22.625 23.890625 \r\nQ 32.328125 33.6875 34.8125 36.53125 \r\nQ 39.546875 41.84375 41.421875 45.53125 \r\nQ 43.3125 49.21875 43.3125 52.78125 \r\nQ 43.3125 58.59375 39.234375 62.25 \r\nQ 35.15625 65.921875 28.609375 65.921875 \r\nQ 23.96875 65.921875 18.8125 64.3125 \r\nQ 13.671875 62.703125 7.8125 59.421875 \r\nL 7.8125 69.390625 \r\nQ 13.765625 71.78125 18.9375 73 \r\nQ 24.125 74.21875 28.421875 74.21875 \r\nQ 39.75 74.21875 46.484375 68.546875 \r\nQ 53.21875 62.890625 53.21875 53.421875 \r\nQ 53.21875 48.921875 51.53125 44.890625 \r\nQ 49.859375 40.875 45.40625 35.40625 \r\nQ 44.1875 33.984375 37.640625 27.21875 \r\nQ 31.109375 20.453125 19.1875 8.296875 \r\nz\r\n\" id=\"DejaVuSans-50\"/>\r\n       </defs>\r\n       <use xlink:href=\"#DejaVuSans-48\"/>\r\n       <use x=\"63.623047\" xlink:href=\"#DejaVuSans-46\"/>\r\n       <use x=\"95.410156\" xlink:href=\"#DejaVuSans-48\"/>\r\n       <use x=\"159.033203\" xlink:href=\"#DejaVuSans-50\"/>\r\n      </g>\r\n     </g>\r\n    </g>\r\n    <g id=\"xtick_3\">\r\n     <g id=\"line2d_3\">\r\n      <g>\r\n       <use style=\"stroke:#000000;stroke-width:0.8;\" x=\"154.101625\" xlink:href=\"#m9cf3b6a830\" y=\"224.64\"/>\r\n      </g>\r\n     </g>\r\n     <g id=\"text_3\">\r\n      <!-- 0.04 -->\r\n      <g transform=\"translate(142.968813 239.238438)scale(0.1 -0.1)\">\r\n       <defs>\r\n        <path d=\"M 37.796875 64.3125 \r\nL 12.890625 25.390625 \r\nL 37.796875 25.390625 \r\nz\r\nM 35.203125 72.90625 \r\nL 47.609375 72.90625 \r\nL 47.609375 25.390625 \r\nL 58.015625 25.390625 \r\nL 58.015625 17.1875 \r\nL 47.609375 17.1875 \r\nL 47.609375 0 \r\nL 37.796875 0 \r\nL 37.796875 17.1875 \r\nL 4.890625 17.1875 \r\nL 4.890625 26.703125 \r\nz\r\n\" id=\"DejaVuSans-52\"/>\r\n       </defs>\r\n       <use xlink:href=\"#DejaVuSans-48\"/>\r\n       <use x=\"63.623047\" xlink:href=\"#DejaVuSans-46\"/>\r\n       <use x=\"95.410156\" xlink:href=\"#DejaVuSans-48\"/>\r\n       <use x=\"159.033203\" xlink:href=\"#DejaVuSans-52\"/>\r\n      </g>\r\n     </g>\r\n    </g>\r\n    <g id=\"xtick_4\">\r\n     <g id=\"line2d_4\">\r\n      <g>\r\n       <use style=\"stroke:#000000;stroke-width:0.8;\" x=\"207.669625\" xlink:href=\"#m9cf3b6a830\" y=\"224.64\"/>\r\n      </g>\r\n     </g>\r\n     <g id=\"text_4\">\r\n      <!-- 0.06 -->\r\n      <g transform=\"translate(196.536813 239.238438)scale(0.1 -0.1)\">\r\n       <defs>\r\n        <path d=\"M 33.015625 40.375 \r\nQ 26.375 40.375 22.484375 35.828125 \r\nQ 18.609375 31.296875 18.609375 23.390625 \r\nQ 18.609375 15.53125 22.484375 10.953125 \r\nQ 26.375 6.390625 33.015625 6.390625 \r\nQ 39.65625 6.390625 43.53125 10.953125 \r\nQ 47.40625 15.53125 47.40625 23.390625 \r\nQ 47.40625 31.296875 43.53125 35.828125 \r\nQ 39.65625 40.375 33.015625 40.375 \r\nz\r\nM 52.59375 71.296875 \r\nL 52.59375 62.3125 \r\nQ 48.875 64.0625 45.09375 64.984375 \r\nQ 41.3125 65.921875 37.59375 65.921875 \r\nQ 27.828125 65.921875 22.671875 59.328125 \r\nQ 17.53125 52.734375 16.796875 39.40625 \r\nQ 19.671875 43.65625 24.015625 45.921875 \r\nQ 28.375 48.1875 33.59375 48.1875 \r\nQ 44.578125 48.1875 50.953125 41.515625 \r\nQ 57.328125 34.859375 57.328125 23.390625 \r\nQ 57.328125 12.15625 50.6875 5.359375 \r\nQ 44.046875 -1.421875 33.015625 -1.421875 \r\nQ 20.359375 -1.421875 13.671875 8.265625 \r\nQ 6.984375 17.96875 6.984375 36.375 \r\nQ 6.984375 53.65625 15.1875 63.9375 \r\nQ 23.390625 74.21875 37.203125 74.21875 \r\nQ 40.921875 74.21875 44.703125 73.484375 \r\nQ 48.484375 72.75 52.59375 71.296875 \r\nz\r\n\" id=\"DejaVuSans-54\"/>\r\n       </defs>\r\n       <use xlink:href=\"#DejaVuSans-48\"/>\r\n       <use x=\"63.623047\" xlink:href=\"#DejaVuSans-46\"/>\r\n       <use x=\"95.410156\" xlink:href=\"#DejaVuSans-48\"/>\r\n       <use x=\"159.033203\" xlink:href=\"#DejaVuSans-54\"/>\r\n      </g>\r\n     </g>\r\n    </g>\r\n    <g id=\"xtick_5\">\r\n     <g id=\"line2d_5\">\r\n      <g>\r\n       <use style=\"stroke:#000000;stroke-width:0.8;\" x=\"261.237625\" xlink:href=\"#m9cf3b6a830\" y=\"224.64\"/>\r\n      </g>\r\n     </g>\r\n     <g id=\"text_5\">\r\n      <!-- 0.08 -->\r\n      <g transform=\"translate(250.104813 239.238438)scale(0.1 -0.1)\">\r\n       <defs>\r\n        <path d=\"M 31.78125 34.625 \r\nQ 24.75 34.625 20.71875 30.859375 \r\nQ 16.703125 27.09375 16.703125 20.515625 \r\nQ 16.703125 13.921875 20.71875 10.15625 \r\nQ 24.75 6.390625 31.78125 6.390625 \r\nQ 38.8125 6.390625 42.859375 10.171875 \r\nQ 46.921875 13.96875 46.921875 20.515625 \r\nQ 46.921875 27.09375 42.890625 30.859375 \r\nQ 38.875 34.625 31.78125 34.625 \r\nz\r\nM 21.921875 38.8125 \r\nQ 15.578125 40.375 12.03125 44.71875 \r\nQ 8.5 49.078125 8.5 55.328125 \r\nQ 8.5 64.0625 14.71875 69.140625 \r\nQ 20.953125 74.21875 31.78125 74.21875 \r\nQ 42.671875 74.21875 48.875 69.140625 \r\nQ 55.078125 64.0625 55.078125 55.328125 \r\nQ 55.078125 49.078125 51.53125 44.71875 \r\nQ 48 40.375 41.703125 38.8125 \r\nQ 48.828125 37.15625 52.796875 32.3125 \r\nQ 56.78125 27.484375 56.78125 20.515625 \r\nQ 56.78125 9.90625 50.3125 4.234375 \r\nQ 43.84375 -1.421875 31.78125 -1.421875 \r\nQ 19.734375 -1.421875 13.25 4.234375 \r\nQ 6.78125 9.90625 6.78125 20.515625 \r\nQ 6.78125 27.484375 10.78125 32.3125 \r\nQ 14.796875 37.15625 21.921875 38.8125 \r\nz\r\nM 18.3125 54.390625 \r\nQ 18.3125 48.734375 21.84375 45.5625 \r\nQ 25.390625 42.390625 31.78125 42.390625 \r\nQ 38.140625 42.390625 41.71875 45.5625 \r\nQ 45.3125 48.734375 45.3125 54.390625 \r\nQ 45.3125 60.0625 41.71875 63.234375 \r\nQ 38.140625 66.40625 31.78125 66.40625 \r\nQ 25.390625 66.40625 21.84375 63.234375 \r\nQ 18.3125 60.0625 18.3125 54.390625 \r\nz\r\n\" id=\"DejaVuSans-56\"/>\r\n       </defs>\r\n       <use xlink:href=\"#DejaVuSans-48\"/>\r\n       <use x=\"63.623047\" xlink:href=\"#DejaVuSans-46\"/>\r\n       <use x=\"95.410156\" xlink:href=\"#DejaVuSans-48\"/>\r\n       <use x=\"159.033203\" xlink:href=\"#DejaVuSans-56\"/>\r\n      </g>\r\n     </g>\r\n    </g>\r\n    <g id=\"xtick_6\">\r\n     <g id=\"line2d_6\">\r\n      <g>\r\n       <use style=\"stroke:#000000;stroke-width:0.8;\" x=\"314.805625\" xlink:href=\"#m9cf3b6a830\" y=\"224.64\"/>\r\n      </g>\r\n     </g>\r\n     <g id=\"text_6\">\r\n      <!-- 0.10 -->\r\n      <g transform=\"translate(303.672813 239.238438)scale(0.1 -0.1)\">\r\n       <defs>\r\n        <path d=\"M 12.40625 8.296875 \r\nL 28.515625 8.296875 \r\nL 28.515625 63.921875 \r\nL 10.984375 60.40625 \r\nL 10.984375 69.390625 \r\nL 28.421875 72.90625 \r\nL 38.28125 72.90625 \r\nL 38.28125 8.296875 \r\nL 54.390625 8.296875 \r\nL 54.390625 0 \r\nL 12.40625 0 \r\nz\r\n\" id=\"DejaVuSans-49\"/>\r\n       </defs>\r\n       <use xlink:href=\"#DejaVuSans-48\"/>\r\n       <use x=\"63.623047\" xlink:href=\"#DejaVuSans-46\"/>\r\n       <use x=\"95.410156\" xlink:href=\"#DejaVuSans-49\"/>\r\n       <use x=\"159.033203\" xlink:href=\"#DejaVuSans-48\"/>\r\n      </g>\r\n     </g>\r\n    </g>\r\n    <g id=\"xtick_7\">\r\n     <g id=\"line2d_7\">\r\n      <g>\r\n       <use style=\"stroke:#000000;stroke-width:0.8;\" x=\"368.373625\" xlink:href=\"#m9cf3b6a830\" y=\"224.64\"/>\r\n      </g>\r\n     </g>\r\n     <g id=\"text_7\">\r\n      <!-- 0.12 -->\r\n      <g transform=\"translate(357.240813 239.238438)scale(0.1 -0.1)\">\r\n       <use xlink:href=\"#DejaVuSans-48\"/>\r\n       <use x=\"63.623047\" xlink:href=\"#DejaVuSans-46\"/>\r\n       <use x=\"95.410156\" xlink:href=\"#DejaVuSans-49\"/>\r\n       <use x=\"159.033203\" xlink:href=\"#DejaVuSans-50\"/>\r\n      </g>\r\n     </g>\r\n    </g>\r\n    <g id=\"text_8\">\r\n     <!-- Loss_mae -->\r\n     <g transform=\"translate(189.8875 252.638438)scale(0.1 -0.1)\">\r\n      <defs>\r\n       <path d=\"M 9.8125 72.90625 \r\nL 19.671875 72.90625 \r\nL 19.671875 8.296875 \r\nL 55.171875 8.296875 \r\nL 55.171875 0 \r\nL 9.8125 0 \r\nz\r\n\" id=\"DejaVuSans-76\"/>\r\n       <path d=\"M 30.609375 48.390625 \r\nQ 23.390625 48.390625 19.1875 42.75 \r\nQ 14.984375 37.109375 14.984375 27.296875 \r\nQ 14.984375 17.484375 19.15625 11.84375 \r\nQ 23.34375 6.203125 30.609375 6.203125 \r\nQ 37.796875 6.203125 41.984375 11.859375 \r\nQ 46.1875 17.53125 46.1875 27.296875 \r\nQ 46.1875 37.015625 41.984375 42.703125 \r\nQ 37.796875 48.390625 30.609375 48.390625 \r\nz\r\nM 30.609375 56 \r\nQ 42.328125 56 49.015625 48.375 \r\nQ 55.71875 40.765625 55.71875 27.296875 \r\nQ 55.71875 13.875 49.015625 6.21875 \r\nQ 42.328125 -1.421875 30.609375 -1.421875 \r\nQ 18.84375 -1.421875 12.171875 6.21875 \r\nQ 5.515625 13.875 5.515625 27.296875 \r\nQ 5.515625 40.765625 12.171875 48.375 \r\nQ 18.84375 56 30.609375 56 \r\nz\r\n\" id=\"DejaVuSans-111\"/>\r\n       <path d=\"M 44.28125 53.078125 \r\nL 44.28125 44.578125 \r\nQ 40.484375 46.53125 36.375 47.5 \r\nQ 32.28125 48.484375 27.875 48.484375 \r\nQ 21.1875 48.484375 17.84375 46.4375 \r\nQ 14.5 44.390625 14.5 40.28125 \r\nQ 14.5 37.15625 16.890625 35.375 \r\nQ 19.28125 33.59375 26.515625 31.984375 \r\nL 29.59375 31.296875 \r\nQ 39.15625 29.25 43.1875 25.515625 \r\nQ 47.21875 21.78125 47.21875 15.09375 \r\nQ 47.21875 7.46875 41.1875 3.015625 \r\nQ 35.15625 -1.421875 24.609375 -1.421875 \r\nQ 20.21875 -1.421875 15.453125 -0.5625 \r\nQ 10.6875 0.296875 5.421875 2 \r\nL 5.421875 11.28125 \r\nQ 10.40625 8.6875 15.234375 7.390625 \r\nQ 20.0625 6.109375 24.8125 6.109375 \r\nQ 31.15625 6.109375 34.5625 8.28125 \r\nQ 37.984375 10.453125 37.984375 14.40625 \r\nQ 37.984375 18.0625 35.515625 20.015625 \r\nQ 33.0625 21.96875 24.703125 23.78125 \r\nL 21.578125 24.515625 \r\nQ 13.234375 26.265625 9.515625 29.90625 \r\nQ 5.8125 33.546875 5.8125 39.890625 \r\nQ 5.8125 47.609375 11.28125 51.796875 \r\nQ 16.75 56 26.8125 56 \r\nQ 31.78125 56 36.171875 55.265625 \r\nQ 40.578125 54.546875 44.28125 53.078125 \r\nz\r\n\" id=\"DejaVuSans-115\"/>\r\n       <path d=\"M 50.984375 -16.609375 \r\nL 50.984375 -23.578125 \r\nL -0.984375 -23.578125 \r\nL -0.984375 -16.609375 \r\nz\r\n\" id=\"DejaVuSans-95\"/>\r\n       <path d=\"M 52 44.1875 \r\nQ 55.375 50.25 60.0625 53.125 \r\nQ 64.75 56 71.09375 56 \r\nQ 79.640625 56 84.28125 50.015625 \r\nQ 88.921875 44.046875 88.921875 33.015625 \r\nL 88.921875 0 \r\nL 79.890625 0 \r\nL 79.890625 32.71875 \r\nQ 79.890625 40.578125 77.09375 44.375 \r\nQ 74.3125 48.1875 68.609375 48.1875 \r\nQ 61.625 48.1875 57.5625 43.546875 \r\nQ 53.515625 38.921875 53.515625 30.90625 \r\nL 53.515625 0 \r\nL 44.484375 0 \r\nL 44.484375 32.71875 \r\nQ 44.484375 40.625 41.703125 44.40625 \r\nQ 38.921875 48.1875 33.109375 48.1875 \r\nQ 26.21875 48.1875 22.15625 43.53125 \r\nQ 18.109375 38.875 18.109375 30.90625 \r\nL 18.109375 0 \r\nL 9.078125 0 \r\nL 9.078125 54.6875 \r\nL 18.109375 54.6875 \r\nL 18.109375 46.1875 \r\nQ 21.1875 51.21875 25.484375 53.609375 \r\nQ 29.78125 56 35.6875 56 \r\nQ 41.65625 56 45.828125 52.96875 \r\nQ 50 49.953125 52 44.1875 \r\nz\r\n\" id=\"DejaVuSans-109\"/>\r\n       <path d=\"M 34.28125 27.484375 \r\nQ 23.390625 27.484375 19.1875 25 \r\nQ 14.984375 22.515625 14.984375 16.5 \r\nQ 14.984375 11.71875 18.140625 8.90625 \r\nQ 21.296875 6.109375 26.703125 6.109375 \r\nQ 34.1875 6.109375 38.703125 11.40625 \r\nQ 43.21875 16.703125 43.21875 25.484375 \r\nL 43.21875 27.484375 \r\nz\r\nM 52.203125 31.203125 \r\nL 52.203125 0 \r\nL 43.21875 0 \r\nL 43.21875 8.296875 \r\nQ 40.140625 3.328125 35.546875 0.953125 \r\nQ 30.953125 -1.421875 24.3125 -1.421875 \r\nQ 15.921875 -1.421875 10.953125 3.296875 \r\nQ 6 8.015625 6 15.921875 \r\nQ 6 25.140625 12.171875 29.828125 \r\nQ 18.359375 34.515625 30.609375 34.515625 \r\nL 43.21875 34.515625 \r\nL 43.21875 35.40625 \r\nQ 43.21875 41.609375 39.140625 45 \r\nQ 35.0625 48.390625 27.6875 48.390625 \r\nQ 23 48.390625 18.546875 47.265625 \r\nQ 14.109375 46.140625 10.015625 43.890625 \r\nL 10.015625 52.203125 \r\nQ 14.9375 54.109375 19.578125 55.046875 \r\nQ 24.21875 56 28.609375 56 \r\nQ 40.484375 56 46.34375 49.84375 \r\nQ 52.203125 43.703125 52.203125 31.203125 \r\nz\r\n\" id=\"DejaVuSans-97\"/>\r\n       <path d=\"M 56.203125 29.59375 \r\nL 56.203125 25.203125 \r\nL 14.890625 25.203125 \r\nQ 15.484375 15.921875 20.484375 11.0625 \r\nQ 25.484375 6.203125 34.421875 6.203125 \r\nQ 39.59375 6.203125 44.453125 7.46875 \r\nQ 49.3125 8.734375 54.109375 11.28125 \r\nL 54.109375 2.78125 \r\nQ 49.265625 0.734375 44.1875 -0.34375 \r\nQ 39.109375 -1.421875 33.890625 -1.421875 \r\nQ 20.796875 -1.421875 13.15625 6.1875 \r\nQ 5.515625 13.8125 5.515625 26.8125 \r\nQ 5.515625 40.234375 12.765625 48.109375 \r\nQ 20.015625 56 32.328125 56 \r\nQ 43.359375 56 49.78125 48.890625 \r\nQ 56.203125 41.796875 56.203125 29.59375 \r\nz\r\nM 47.21875 32.234375 \r\nQ 47.125 39.59375 43.09375 43.984375 \r\nQ 39.0625 48.390625 32.421875 48.390625 \r\nQ 24.90625 48.390625 20.390625 44.140625 \r\nQ 15.875 39.890625 15.1875 32.171875 \r\nz\r\n\" id=\"DejaVuSans-101\"/>\r\n      </defs>\r\n      <use xlink:href=\"#DejaVuSans-76\"/>\r\n      <use x=\"53.962891\" xlink:href=\"#DejaVuSans-111\"/>\r\n      <use x=\"115.144531\" xlink:href=\"#DejaVuSans-115\"/>\r\n      <use x=\"167.244141\" xlink:href=\"#DejaVuSans-115\"/>\r\n      <use x=\"219.34375\" xlink:href=\"#DejaVuSans-95\"/>\r\n      <use x=\"269.34375\" xlink:href=\"#DejaVuSans-109\"/>\r\n      <use x=\"366.755859\" xlink:href=\"#DejaVuSans-97\"/>\r\n      <use x=\"428.035156\" xlink:href=\"#DejaVuSans-101\"/>\r\n     </g>\r\n    </g>\r\n   </g>\r\n   <g id=\"matplotlib.axis_2\">\r\n    <g id=\"ytick_1\">\r\n     <g id=\"line2d_8\">\r\n      <defs>\r\n       <path d=\"M 0 0 \r\nL -3.5 0 \r\n\" id=\"m957f758778\" style=\"stroke:#000000;stroke-width:0.8;\"/>\r\n      </defs>\r\n      <g>\r\n       <use style=\"stroke:#000000;stroke-width:0.8;\" x=\"46.965625\" xlink:href=\"#m957f758778\" y=\"224.64\"/>\r\n      </g>\r\n     </g>\r\n     <g id=\"text_9\">\r\n      <!-- 0 -->\r\n      <g transform=\"translate(33.603125 228.439219)scale(0.1 -0.1)\">\r\n       <use xlink:href=\"#DejaVuSans-48\"/>\r\n      </g>\r\n     </g>\r\n    </g>\r\n    <g id=\"ytick_2\">\r\n     <g id=\"line2d_9\">\r\n      <g>\r\n       <use style=\"stroke:#000000;stroke-width:0.8;\" x=\"46.965625\" xlink:href=\"#m957f758778\" y=\"183.445971\"/>\r\n      </g>\r\n     </g>\r\n     <g id=\"text_10\">\r\n      <!-- 20 -->\r\n      <g transform=\"translate(27.240625 187.24519)scale(0.1 -0.1)\">\r\n       <use xlink:href=\"#DejaVuSans-50\"/>\r\n       <use x=\"63.623047\" xlink:href=\"#DejaVuSans-48\"/>\r\n      </g>\r\n     </g>\r\n    </g>\r\n    <g id=\"ytick_3\">\r\n     <g id=\"line2d_10\">\r\n      <g>\r\n       <use style=\"stroke:#000000;stroke-width:0.8;\" x=\"46.965625\" xlink:href=\"#m957f758778\" y=\"142.251942\"/>\r\n      </g>\r\n     </g>\r\n     <g id=\"text_11\">\r\n      <!-- 40 -->\r\n      <g transform=\"translate(27.240625 146.051161)scale(0.1 -0.1)\">\r\n       <use xlink:href=\"#DejaVuSans-52\"/>\r\n       <use x=\"63.623047\" xlink:href=\"#DejaVuSans-48\"/>\r\n      </g>\r\n     </g>\r\n    </g>\r\n    <g id=\"ytick_4\">\r\n     <g id=\"line2d_11\">\r\n      <g>\r\n       <use style=\"stroke:#000000;stroke-width:0.8;\" x=\"46.965625\" xlink:href=\"#m957f758778\" y=\"101.057913\"/>\r\n      </g>\r\n     </g>\r\n     <g id=\"text_12\">\r\n      <!-- 60 -->\r\n      <g transform=\"translate(27.240625 104.857132)scale(0.1 -0.1)\">\r\n       <use xlink:href=\"#DejaVuSans-54\"/>\r\n       <use x=\"63.623047\" xlink:href=\"#DejaVuSans-48\"/>\r\n      </g>\r\n     </g>\r\n    </g>\r\n    <g id=\"ytick_5\">\r\n     <g id=\"line2d_12\">\r\n      <g>\r\n       <use style=\"stroke:#000000;stroke-width:0.8;\" x=\"46.965625\" xlink:href=\"#m957f758778\" y=\"59.863884\"/>\r\n      </g>\r\n     </g>\r\n     <g id=\"text_13\">\r\n      <!-- 80 -->\r\n      <g transform=\"translate(27.240625 63.663103)scale(0.1 -0.1)\">\r\n       <use xlink:href=\"#DejaVuSans-56\"/>\r\n       <use x=\"63.623047\" xlink:href=\"#DejaVuSans-48\"/>\r\n      </g>\r\n     </g>\r\n    </g>\r\n    <g id=\"ytick_6\">\r\n     <g id=\"line2d_13\">\r\n      <g>\r\n       <use style=\"stroke:#000000;stroke-width:0.8;\" x=\"46.965625\" xlink:href=\"#m957f758778\" y=\"18.669855\"/>\r\n      </g>\r\n     </g>\r\n     <g id=\"text_14\">\r\n      <!-- 100 -->\r\n      <g transform=\"translate(20.878125 22.469074)scale(0.1 -0.1)\">\r\n       <use xlink:href=\"#DejaVuSans-49\"/>\r\n       <use x=\"63.623047\" xlink:href=\"#DejaVuSans-48\"/>\r\n       <use x=\"127.246094\" xlink:href=\"#DejaVuSans-48\"/>\r\n      </g>\r\n     </g>\r\n    </g>\r\n    <g id=\"text_15\">\r\n     <!-- Density -->\r\n     <g transform=\"translate(14.798438 134.928594)rotate(-90)scale(0.1 -0.1)\">\r\n      <defs>\r\n       <path d=\"M 19.671875 64.796875 \r\nL 19.671875 8.109375 \r\nL 31.59375 8.109375 \r\nQ 46.6875 8.109375 53.6875 14.9375 \r\nQ 60.6875 21.78125 60.6875 36.53125 \r\nQ 60.6875 51.171875 53.6875 57.984375 \r\nQ 46.6875 64.796875 31.59375 64.796875 \r\nz\r\nM 9.8125 72.90625 \r\nL 30.078125 72.90625 \r\nQ 51.265625 72.90625 61.171875 64.09375 \r\nQ 71.09375 55.28125 71.09375 36.53125 \r\nQ 71.09375 17.671875 61.125 8.828125 \r\nQ 51.171875 0 30.078125 0 \r\nL 9.8125 0 \r\nz\r\n\" id=\"DejaVuSans-68\"/>\r\n       <path d=\"M 54.890625 33.015625 \r\nL 54.890625 0 \r\nL 45.90625 0 \r\nL 45.90625 32.71875 \r\nQ 45.90625 40.484375 42.875 44.328125 \r\nQ 39.84375 48.1875 33.796875 48.1875 \r\nQ 26.515625 48.1875 22.3125 43.546875 \r\nQ 18.109375 38.921875 18.109375 30.90625 \r\nL 18.109375 0 \r\nL 9.078125 0 \r\nL 9.078125 54.6875 \r\nL 18.109375 54.6875 \r\nL 18.109375 46.1875 \r\nQ 21.34375 51.125 25.703125 53.5625 \r\nQ 30.078125 56 35.796875 56 \r\nQ 45.21875 56 50.046875 50.171875 \r\nQ 54.890625 44.34375 54.890625 33.015625 \r\nz\r\n\" id=\"DejaVuSans-110\"/>\r\n       <path d=\"M 9.421875 54.6875 \r\nL 18.40625 54.6875 \r\nL 18.40625 0 \r\nL 9.421875 0 \r\nz\r\nM 9.421875 75.984375 \r\nL 18.40625 75.984375 \r\nL 18.40625 64.59375 \r\nL 9.421875 64.59375 \r\nz\r\n\" id=\"DejaVuSans-105\"/>\r\n       <path d=\"M 18.3125 70.21875 \r\nL 18.3125 54.6875 \r\nL 36.8125 54.6875 \r\nL 36.8125 47.703125 \r\nL 18.3125 47.703125 \r\nL 18.3125 18.015625 \r\nQ 18.3125 11.328125 20.140625 9.421875 \r\nQ 21.96875 7.515625 27.59375 7.515625 \r\nL 36.8125 7.515625 \r\nL 36.8125 0 \r\nL 27.59375 0 \r\nQ 17.1875 0 13.234375 3.875 \r\nQ 9.28125 7.765625 9.28125 18.015625 \r\nL 9.28125 47.703125 \r\nL 2.6875 47.703125 \r\nL 2.6875 54.6875 \r\nL 9.28125 54.6875 \r\nL 9.28125 70.21875 \r\nz\r\n\" id=\"DejaVuSans-116\"/>\r\n       <path d=\"M 32.171875 -5.078125 \r\nQ 28.375 -14.84375 24.75 -17.8125 \r\nQ 21.140625 -20.796875 15.09375 -20.796875 \r\nL 7.90625 -20.796875 \r\nL 7.90625 -13.28125 \r\nL 13.1875 -13.28125 \r\nQ 16.890625 -13.28125 18.9375 -11.515625 \r\nQ 21 -9.765625 23.484375 -3.21875 \r\nL 25.09375 0.875 \r\nL 2.984375 54.6875 \r\nL 12.5 54.6875 \r\nL 29.59375 11.921875 \r\nL 46.6875 54.6875 \r\nL 56.203125 54.6875 \r\nz\r\n\" id=\"DejaVuSans-121\"/>\r\n      </defs>\r\n      <use xlink:href=\"#DejaVuSans-68\"/>\r\n      <use x=\"77.001953\" xlink:href=\"#DejaVuSans-101\"/>\r\n      <use x=\"138.525391\" xlink:href=\"#DejaVuSans-110\"/>\r\n      <use x=\"201.904297\" xlink:href=\"#DejaVuSans-115\"/>\r\n      <use x=\"254.003906\" xlink:href=\"#DejaVuSans-105\"/>\r\n      <use x=\"281.787109\" xlink:href=\"#DejaVuSans-116\"/>\r\n      <use x=\"320.996094\" xlink:href=\"#DejaVuSans-121\"/>\r\n     </g>\r\n    </g>\r\n   </g>\r\n   <g id=\"line2d_14\">\r\n    <path clip-path=\"url(#pf0724b8ebb)\" d=\"M 50.45869 224.637476 \r\nL 52.658617 224.565046 \r\nL 53.758581 224.339979 \r\nL 54.858545 223.637459 \r\nL 55.958509 221.799091 \r\nL 57.058473 217.73392 \r\nL 58.158437 210.106079 \r\nL 59.2584 197.893242 \r\nL 60.358364 181.005798 \r\nL 62.558292 137.818753 \r\nL 64.75822 94.330458 \r\nL 65.858183 77.020849 \r\nL 66.958147 63.521108 \r\nL 68.058111 52.764146 \r\nL 70.258039 34.187124 \r\nL 71.358002 26.106651 \r\nL 72.457966 20.169783 \r\nL 73.55793 17.554286 \r\nL 74.657894 19.011583 \r\nL 75.757858 24.617207 \r\nL 76.857822 33.69964 \r\nL 79.057749 57.333202 \r\nL 80.157713 69.100656 \r\nL 81.257677 79.476887 \r\nL 83.457605 96.748986 \r\nL 85.657532 112.742966 \r\nL 87.85746 126.690797 \r\nL 93.357279 157.916096 \r\nL 95.557207 169.581653 \r\nL 96.657171 174.799787 \r\nL 97.757134 179.35884 \r\nL 99.957062 187.052518 \r\nL 102.15699 193.710738 \r\nL 103.256953 196.590407 \r\nL 104.356917 199.03206 \r\nL 105.456881 200.98571 \r\nL 106.556845 202.466628 \r\nL 107.656809 203.561563 \r\nL 109.856736 205.384975 \r\nL 110.9567 206.477094 \r\nL 112.056664 207.785883 \r\nL 116.456519 213.883386 \r\nL 117.556483 214.999097 \r\nL 118.656447 215.826834 \r\nL 120.856375 217.02412 \r\nL 124.156266 218.657792 \r\nL 127.456158 220.607862 \r\nL 128.556122 220.970262 \r\nL 130.756049 221.297176 \r\nL 134.055941 221.814818 \r\nL 137.355832 222.676662 \r\nL 139.55576 223.197723 \r\nL 141.755687 223.480102 \r\nL 145.055579 223.530872 \r\nL 148.35547 223.566354 \r\nL 154.955253 224.041336 \r\nL 159.355109 224.278718 \r\nL 162.655 224.332983 \r\nL 168.154819 224.21724 \r\nL 214.3533 224.589017 \r\nL 223.153011 224.582657 \r\nL 227.552866 224.619885 \r\nL 234.152649 224.594143 \r\nL 241.852396 224.6094 \r\nL 248.452179 224.618732 \r\nL 256.151926 224.568904 \r\nL 269.351492 224.639416 \r\nL 269.351492 224.639416 \r\n\" style=\"fill:none;stroke:#0000ff;stroke-linecap:square;stroke-width:1.5;\"/>\r\n   </g>\r\n   <g id=\"line2d_15\">\r\n    <path clip-path=\"url(#pf0724b8ebb)\" d=\"M 49.140285 224.631625 \r\nL 52.006503 224.471609 \r\nL 53.439612 224.056181 \r\nL 54.872721 222.920297 \r\nL 56.30583 220.302894 \r\nL 57.738939 215.184866 \r\nL 59.172049 206.613072 \r\nL 60.605158 194.178036 \r\nL 62.038267 178.376749 \r\nL 64.904485 142.813955 \r\nL 66.337594 126.513595 \r\nL 67.770703 112.230798 \r\nL 70.636922 87.298522 \r\nL 72.070031 75.70795 \r\nL 73.50314 65.120372 \r\nL 74.936249 56.15907 \r\nL 76.369358 49.335053 \r\nL 77.802467 45.135331 \r\nL 79.235576 44.015113 \r\nL 80.668686 46.199579 \r\nL 82.101795 51.617611 \r\nL 83.534904 60.03048 \r\nL 84.968013 71.03118 \r\nL 90.700449 121.371865 \r\nL 92.133559 131.843164 \r\nL 93.566668 141.457217 \r\nL 94.999777 150.018548 \r\nL 96.432886 157.147555 \r\nL 97.865995 162.818963 \r\nL 106.46465 190.91862 \r\nL 107.897759 194.889859 \r\nL 109.330868 198.270822 \r\nL 110.763977 201.125272 \r\nL 113.630196 205.94235 \r\nL 116.496414 210.178003 \r\nL 117.929523 211.935525 \r\nL 119.362632 213.341708 \r\nL 122.22885 215.430642 \r\nL 126.528178 218.19277 \r\nL 127.961287 218.955683 \r\nL 129.394396 219.555026 \r\nL 132.260614 220.308571 \r\nL 139.42616 221.791275 \r\nL 143.725487 222.311967 \r\nL 146.591706 222.433734 \r\nL 149.457924 222.350109 \r\nL 150.891033 222.443627 \r\nL 153.757251 223.073639 \r\nL 156.623469 223.672244 \r\nL 159.489688 223.847944 \r\nL 165.222124 223.820688 \r\nL 170.954561 224.238618 \r\nL 173.820779 224.063569 \r\nL 176.686997 223.933297 \r\nL 179.553216 224.200958 \r\nL 182.419434 224.472193 \r\nL 185.285652 224.411494 \r\nL 189.584979 224.166146 \r\nL 198.183634 224.350857 \r\nL 203.916071 224.171692 \r\nL 208.215398 224.325759 \r\nL 213.947835 224.577934 \r\nL 228.278926 224.51402 \r\nL 236.877581 224.5827 \r\nL 242.610017 224.534525 \r\nL 251.208672 224.638043 \r\nL 294.201946 224.6148 \r\nL 305.666819 224.64 \r\nL 322.864129 224.547333 \r\nL 327.163456 224.534979 \r\nL 334.329002 224.638582 \r\nL 334.329002 224.638582 \r\n\" style=\"fill:none;stroke:#ff0000;stroke-linecap:square;stroke-width:1.5;\"/>\r\n   </g>\r\n   <g id=\"patch_3\">\r\n    <path d=\"M 46.965625 224.64 \r\nL 46.965625 7.2 \r\n\" style=\"fill:none;stroke:#000000;stroke-linecap:square;stroke-linejoin:miter;stroke-width:0.8;\"/>\r\n   </g>\r\n   <g id=\"patch_4\">\r\n    <path d=\"M 381.765625 224.64 \r\nL 381.765625 7.2 \r\n\" style=\"fill:none;stroke:#000000;stroke-linecap:square;stroke-linejoin:miter;stroke-width:0.8;\"/>\r\n   </g>\r\n   <g id=\"patch_5\">\r\n    <path d=\"M 46.965625 224.64 \r\nL 381.765625 224.64 \r\n\" style=\"fill:none;stroke:#000000;stroke-linecap:square;stroke-linejoin:miter;stroke-width:0.8;\"/>\r\n   </g>\r\n   <g id=\"patch_6\">\r\n    <path d=\"M 46.965625 7.2 \r\nL 381.765625 7.2 \r\n\" style=\"fill:none;stroke:#000000;stroke-linecap:square;stroke-linejoin:miter;stroke-width:0.8;\"/>\r\n   </g>\r\n  </g>\r\n </g>\r\n <defs>\r\n  <clipPath id=\"pf0724b8ebb\">\r\n   <rect height=\"217.44\" width=\"334.8\" x=\"46.965625\" y=\"7.2\"/>\r\n  </clipPath>\r\n </defs>\r\n</svg>\r\n",
      "image/png": "[encoded data removed]"
     },
     "metadata": {
      "needs_background": "light"
     }
    }
   ],
   "source": [
    "import matplotlib.pyplot as plt\n",
    "import seaborn as sns\n",
    "\n",
    "# Normal data\n",
    "X = norm_df.drop(columns=['Date', 'Condition', 'GT Number'])\n",
    "Y = pd.DataFrame(model.predict(X.to_numpy()), index=X.index, columns=X.columns)\n",
    "\n",
    "norm_scored = pd.DataFrame(index=X.index)\n",
    "norm_scored['Loss_mae'] = np.mean(np.abs(Y-X), axis=1)\n",
    "norm_scored\n",
    "\n",
    "# Abnormal data\n",
    "X = abnorm_df.drop(columns=['Date', 'Condition', 'GT Number'])\n",
    "Y = pd.DataFrame(model.predict(X.to_numpy()), index=X.index, columns=X.columns)\n",
    "\n",
    "abnorm_scored = pd.DataFrame(index=X.index)\n",
    "abnorm_scored['Loss_mae'] = np.mean(np.abs(Y-X), axis=1)\n",
    "\n",
    "# Plot\n",
    "plt.figure()\n",
    "plt.xlim([0.0, 0.125])\n",
    "sns.distplot(norm_scored['Loss_mae'], bins=30, kde=True, color='blue', hist_kws=dict(edgecolor=\"k\", linewidth=1), hist=False)\n",
    "sns.distplot(abnorm_scored['Loss_mae'], bins=30, kde=True, color='red', hist_kws=dict(edgecolor=\"k\", linewidth=1), hist=False)\n",
    "plt.show()"
   ]
  },
  {
   "cell_type": "code",
   "execution_count": null,
   "metadata": {},
   "outputs": [],
   "source": []
  }
 ]
}